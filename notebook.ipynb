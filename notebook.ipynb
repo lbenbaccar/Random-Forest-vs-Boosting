{
  "nbformat": 4,
  "nbformat_minor": 0,
  "metadata": {
    "jupytext": {},
    "kernelspec": {
      "display_name": "Python 3",
      "language": "python",
      "name": "python3"
    },
    "language_info": {
      "codemirror_mode": {
        "name": "ipython",
        "version": 3
      },
      "file_extension": ".py",
      "mimetype": "text/x-python",
      "name": "python",
      "nbconvert_exporter": "python",
      "pygments_lexer": "ipython3",
      "version": "3.7.4"
    },
    "toc": {
      "base_numbering": 1,
      "nav_menu": {},
      "number_sections": true,
      "sideBar": true,
      "skip_h1_title": false,
      "title_cell": "Table of Contents",
      "title_sidebar": "Contents",
      "toc_cell": false,
      "toc_position": {},
      "toc_section_display": true,
      "toc_window_display": false
    },
    "varInspector": {
      "cols": {
        "lenName": 16,
        "lenType": 16,
        "lenVar": 40
      },
      "kernels_config": {
        "python": {
          "delete_cmd_postfix": "",
          "delete_cmd_prefix": "del ",
          "library": "var_list.py",
          "varRefreshCmd": "print(var_dic_list())"
        },
        "r": {
          "delete_cmd_postfix": ") ",
          "delete_cmd_prefix": "rm(",
          "library": "var_list.r",
          "varRefreshCmd": "cat(var_dic_list()) "
        }
      },
      "types_to_exclude": [
        "module",
        "function",
        "builtin_function_or_method",
        "instance",
        "_Feature"
      ],
      "window_display": false
    },
    "colab": {
      "name": "Copie de Copy of Techniques avancées d'apprentissage",
      "provenance": []
    }
  },
  "cells": [
    {
      "cell_type": "code",
      "metadata": {
        "id": "KlUzRseplsPP"
      },
      "source": [
        "import numpy as np\n",
        "import pandas as pd\n",
        "import matplotlib\n",
        "import matplotlib.pyplot as plt\n",
        "import seaborn as sns\n",
        "import sklearn.metrics as metrics\n",
        "from sklearn.model_selection import cross_val_score\n",
        "from sklearn.metrics import accuracy_score\n",
        "from sklearn import tree\n",
        "from sklearn.tree import DecisionTreeClassifier\n",
        "from sklearn.ensemble import RandomForestClassifier\n",
        "from sklearn.ensemble import AdaBoostClassifier\n",
        "from sklearn.linear_model import LogisticRegressionCV\n",
        "from sklearn.model_selection import KFold\n",
        "from sklearn.metrics import confusion_matrix\n",
        "%matplotlib inline\n",
        "\n",
        "pd.set_option('display.width', 1500)\n",
        "pd.set_option('display.max_columns', 100)\n",
        "\n",
        "from sklearn.model_selection import learning_curve"
      ],
      "execution_count": 21,
      "outputs": []
    },
    {
      "cell_type": "markdown",
      "metadata": {
        "id": "HDBnalHOlsPQ"
      },
      "source": [
        "\n",
        "-------------\n",
        "\n",
        "# Introduction au Dataset Spam"
      ]
    },
    {
      "cell_type": "markdown",
      "metadata": {
        "id": "9L6Qwg9IlsPQ"
      },
      "source": [
        "Nous allons travailler avec un jeu de données de courriers indésirables. Le jeu de données a 57 prédicteurs avec une variable de réponse appelée `Spam` qui indique si un email est un spam ou non. L'objectif est de pouvoir créer un classificateur ou une méthode qui agit comme un filtre anti-spam."
      ]
    },
    {
      "cell_type": "code",
      "metadata": {
        "colab": {
          "base_uri": "https://localhost:8080/",
          "height": 422
        },
        "id": "DDbO45galsPQ",
        "outputId": "58ec0ecc-bfa4-4d1d-d0a8-70180ef83104"
      },
      "source": [
        "#Import Dataframe and Set Column Names\n",
        "spam_df = pd.read_csv('spam.csv')\n",
        "spam_df"
      ],
      "execution_count": 22,
      "outputs": [
        {
          "output_type": "execute_result",
          "data": {
            "text/html": [
              "<div>\n",
              "<style scoped>\n",
              "    .dataframe tbody tr th:only-of-type {\n",
              "        vertical-align: middle;\n",
              "    }\n",
              "\n",
              "    .dataframe tbody tr th {\n",
              "        vertical-align: top;\n",
              "    }\n",
              "\n",
              "    .dataframe thead th {\n",
              "        text-align: right;\n",
              "    }\n",
              "</style>\n",
              "<table border=\"1\" class=\"dataframe\">\n",
              "  <thead>\n",
              "    <tr style=\"text-align: right;\">\n",
              "      <th></th>\n",
              "      <th>spam</th>\n",
              "      <th>testid</th>\n",
              "      <th>make</th>\n",
              "      <th>address</th>\n",
              "      <th>all</th>\n",
              "      <th>3d</th>\n",
              "      <th>our</th>\n",
              "      <th>over</th>\n",
              "      <th>remove</th>\n",
              "      <th>internet</th>\n",
              "      <th>order</th>\n",
              "      <th>mail</th>\n",
              "      <th>receive</th>\n",
              "      <th>will</th>\n",
              "      <th>people</th>\n",
              "      <th>report</th>\n",
              "      <th>addresses</th>\n",
              "      <th>free</th>\n",
              "      <th>business</th>\n",
              "      <th>email</th>\n",
              "      <th>you</th>\n",
              "      <th>credit</th>\n",
              "      <th>your</th>\n",
              "      <th>font</th>\n",
              "      <th>000</th>\n",
              "      <th>money</th>\n",
              "      <th>hp</th>\n",
              "      <th>hpl</th>\n",
              "      <th>george</th>\n",
              "      <th>650</th>\n",
              "      <th>lab</th>\n",
              "      <th>labs</th>\n",
              "      <th>telnet</th>\n",
              "      <th>857</th>\n",
              "      <th>data</th>\n",
              "      <th>415</th>\n",
              "      <th>85</th>\n",
              "      <th>technology</th>\n",
              "      <th>1999</th>\n",
              "      <th>parts</th>\n",
              "      <th>pm</th>\n",
              "      <th>direct</th>\n",
              "      <th>cs</th>\n",
              "      <th>meeting</th>\n",
              "      <th>original</th>\n",
              "      <th>project</th>\n",
              "      <th>re</th>\n",
              "      <th>edu</th>\n",
              "      <th>table</th>\n",
              "      <th>conference</th>\n",
              "      <th>ch;</th>\n",
              "      <th>ch(</th>\n",
              "      <th>ch[</th>\n",
              "      <th>ch!</th>\n",
              "      <th>ch$</th>\n",
              "      <th>ch#</th>\n",
              "      <th>crl.ave</th>\n",
              "      <th>crl.long</th>\n",
              "      <th>crl.tot</th>\n",
              "    </tr>\n",
              "  </thead>\n",
              "  <tbody>\n",
              "    <tr>\n",
              "      <th>0</th>\n",
              "      <td>True</td>\n",
              "      <td>True</td>\n",
              "      <td>0.00</td>\n",
              "      <td>0.64</td>\n",
              "      <td>0.64</td>\n",
              "      <td>0.0</td>\n",
              "      <td>0.32</td>\n",
              "      <td>0.00</td>\n",
              "      <td>0.00</td>\n",
              "      <td>0.00</td>\n",
              "      <td>0.00</td>\n",
              "      <td>0.00</td>\n",
              "      <td>0.00</td>\n",
              "      <td>0.64</td>\n",
              "      <td>0.00</td>\n",
              "      <td>0.00</td>\n",
              "      <td>0.00</td>\n",
              "      <td>0.32</td>\n",
              "      <td>0.00</td>\n",
              "      <td>1.29</td>\n",
              "      <td>1.93</td>\n",
              "      <td>0.00</td>\n",
              "      <td>0.96</td>\n",
              "      <td>0.0</td>\n",
              "      <td>0.00</td>\n",
              "      <td>0.00</td>\n",
              "      <td>0.0</td>\n",
              "      <td>0.0</td>\n",
              "      <td>0.0</td>\n",
              "      <td>0.0</td>\n",
              "      <td>0.0</td>\n",
              "      <td>0.0</td>\n",
              "      <td>0.0</td>\n",
              "      <td>0.0</td>\n",
              "      <td>0.0</td>\n",
              "      <td>0.0</td>\n",
              "      <td>0.0</td>\n",
              "      <td>0.0</td>\n",
              "      <td>0.00</td>\n",
              "      <td>0.0</td>\n",
              "      <td>0.0</td>\n",
              "      <td>0.00</td>\n",
              "      <td>0.0</td>\n",
              "      <td>0.0</td>\n",
              "      <td>0.00</td>\n",
              "      <td>0.00</td>\n",
              "      <td>0.00</td>\n",
              "      <td>0.00</td>\n",
              "      <td>0.0</td>\n",
              "      <td>0.0</td>\n",
              "      <td>0.000</td>\n",
              "      <td>0.000</td>\n",
              "      <td>0.0</td>\n",
              "      <td>0.778</td>\n",
              "      <td>0.000</td>\n",
              "      <td>0.000</td>\n",
              "      <td>3.756</td>\n",
              "      <td>61</td>\n",
              "      <td>278</td>\n",
              "    </tr>\n",
              "    <tr>\n",
              "      <th>1</th>\n",
              "      <td>True</td>\n",
              "      <td>False</td>\n",
              "      <td>0.21</td>\n",
              "      <td>0.28</td>\n",
              "      <td>0.50</td>\n",
              "      <td>0.0</td>\n",
              "      <td>0.14</td>\n",
              "      <td>0.28</td>\n",
              "      <td>0.21</td>\n",
              "      <td>0.07</td>\n",
              "      <td>0.00</td>\n",
              "      <td>0.94</td>\n",
              "      <td>0.21</td>\n",
              "      <td>0.79</td>\n",
              "      <td>0.65</td>\n",
              "      <td>0.21</td>\n",
              "      <td>0.14</td>\n",
              "      <td>0.14</td>\n",
              "      <td>0.07</td>\n",
              "      <td>0.28</td>\n",
              "      <td>3.47</td>\n",
              "      <td>0.00</td>\n",
              "      <td>1.59</td>\n",
              "      <td>0.0</td>\n",
              "      <td>0.43</td>\n",
              "      <td>0.43</td>\n",
              "      <td>0.0</td>\n",
              "      <td>0.0</td>\n",
              "      <td>0.0</td>\n",
              "      <td>0.0</td>\n",
              "      <td>0.0</td>\n",
              "      <td>0.0</td>\n",
              "      <td>0.0</td>\n",
              "      <td>0.0</td>\n",
              "      <td>0.0</td>\n",
              "      <td>0.0</td>\n",
              "      <td>0.0</td>\n",
              "      <td>0.0</td>\n",
              "      <td>0.07</td>\n",
              "      <td>0.0</td>\n",
              "      <td>0.0</td>\n",
              "      <td>0.00</td>\n",
              "      <td>0.0</td>\n",
              "      <td>0.0</td>\n",
              "      <td>0.00</td>\n",
              "      <td>0.00</td>\n",
              "      <td>0.00</td>\n",
              "      <td>0.00</td>\n",
              "      <td>0.0</td>\n",
              "      <td>0.0</td>\n",
              "      <td>0.000</td>\n",
              "      <td>0.132</td>\n",
              "      <td>0.0</td>\n",
              "      <td>0.372</td>\n",
              "      <td>0.180</td>\n",
              "      <td>0.048</td>\n",
              "      <td>5.114</td>\n",
              "      <td>101</td>\n",
              "      <td>1028</td>\n",
              "    </tr>\n",
              "    <tr>\n",
              "      <th>2</th>\n",
              "      <td>True</td>\n",
              "      <td>True</td>\n",
              "      <td>0.06</td>\n",
              "      <td>0.00</td>\n",
              "      <td>0.71</td>\n",
              "      <td>0.0</td>\n",
              "      <td>1.23</td>\n",
              "      <td>0.19</td>\n",
              "      <td>0.19</td>\n",
              "      <td>0.12</td>\n",
              "      <td>0.64</td>\n",
              "      <td>0.25</td>\n",
              "      <td>0.38</td>\n",
              "      <td>0.45</td>\n",
              "      <td>0.12</td>\n",
              "      <td>0.00</td>\n",
              "      <td>1.75</td>\n",
              "      <td>0.06</td>\n",
              "      <td>0.06</td>\n",
              "      <td>1.03</td>\n",
              "      <td>1.36</td>\n",
              "      <td>0.32</td>\n",
              "      <td>0.51</td>\n",
              "      <td>0.0</td>\n",
              "      <td>1.16</td>\n",
              "      <td>0.06</td>\n",
              "      <td>0.0</td>\n",
              "      <td>0.0</td>\n",
              "      <td>0.0</td>\n",
              "      <td>0.0</td>\n",
              "      <td>0.0</td>\n",
              "      <td>0.0</td>\n",
              "      <td>0.0</td>\n",
              "      <td>0.0</td>\n",
              "      <td>0.0</td>\n",
              "      <td>0.0</td>\n",
              "      <td>0.0</td>\n",
              "      <td>0.0</td>\n",
              "      <td>0.00</td>\n",
              "      <td>0.0</td>\n",
              "      <td>0.0</td>\n",
              "      <td>0.06</td>\n",
              "      <td>0.0</td>\n",
              "      <td>0.0</td>\n",
              "      <td>0.12</td>\n",
              "      <td>0.00</td>\n",
              "      <td>0.06</td>\n",
              "      <td>0.06</td>\n",
              "      <td>0.0</td>\n",
              "      <td>0.0</td>\n",
              "      <td>0.010</td>\n",
              "      <td>0.143</td>\n",
              "      <td>0.0</td>\n",
              "      <td>0.276</td>\n",
              "      <td>0.184</td>\n",
              "      <td>0.010</td>\n",
              "      <td>9.821</td>\n",
              "      <td>485</td>\n",
              "      <td>2259</td>\n",
              "    </tr>\n",
              "    <tr>\n",
              "      <th>3</th>\n",
              "      <td>True</td>\n",
              "      <td>False</td>\n",
              "      <td>0.00</td>\n",
              "      <td>0.00</td>\n",
              "      <td>0.00</td>\n",
              "      <td>0.0</td>\n",
              "      <td>0.63</td>\n",
              "      <td>0.00</td>\n",
              "      <td>0.31</td>\n",
              "      <td>0.63</td>\n",
              "      <td>0.31</td>\n",
              "      <td>0.63</td>\n",
              "      <td>0.31</td>\n",
              "      <td>0.31</td>\n",
              "      <td>0.31</td>\n",
              "      <td>0.00</td>\n",
              "      <td>0.00</td>\n",
              "      <td>0.31</td>\n",
              "      <td>0.00</td>\n",
              "      <td>0.00</td>\n",
              "      <td>3.18</td>\n",
              "      <td>0.00</td>\n",
              "      <td>0.31</td>\n",
              "      <td>0.0</td>\n",
              "      <td>0.00</td>\n",
              "      <td>0.00</td>\n",
              "      <td>0.0</td>\n",
              "      <td>0.0</td>\n",
              "      <td>0.0</td>\n",
              "      <td>0.0</td>\n",
              "      <td>0.0</td>\n",
              "      <td>0.0</td>\n",
              "      <td>0.0</td>\n",
              "      <td>0.0</td>\n",
              "      <td>0.0</td>\n",
              "      <td>0.0</td>\n",
              "      <td>0.0</td>\n",
              "      <td>0.0</td>\n",
              "      <td>0.00</td>\n",
              "      <td>0.0</td>\n",
              "      <td>0.0</td>\n",
              "      <td>0.00</td>\n",
              "      <td>0.0</td>\n",
              "      <td>0.0</td>\n",
              "      <td>0.00</td>\n",
              "      <td>0.00</td>\n",
              "      <td>0.00</td>\n",
              "      <td>0.00</td>\n",
              "      <td>0.0</td>\n",
              "      <td>0.0</td>\n",
              "      <td>0.000</td>\n",
              "      <td>0.137</td>\n",
              "      <td>0.0</td>\n",
              "      <td>0.137</td>\n",
              "      <td>0.000</td>\n",
              "      <td>0.000</td>\n",
              "      <td>3.537</td>\n",
              "      <td>40</td>\n",
              "      <td>191</td>\n",
              "    </tr>\n",
              "    <tr>\n",
              "      <th>4</th>\n",
              "      <td>True</td>\n",
              "      <td>False</td>\n",
              "      <td>0.00</td>\n",
              "      <td>0.00</td>\n",
              "      <td>0.00</td>\n",
              "      <td>0.0</td>\n",
              "      <td>0.63</td>\n",
              "      <td>0.00</td>\n",
              "      <td>0.31</td>\n",
              "      <td>0.63</td>\n",
              "      <td>0.31</td>\n",
              "      <td>0.63</td>\n",
              "      <td>0.31</td>\n",
              "      <td>0.31</td>\n",
              "      <td>0.31</td>\n",
              "      <td>0.00</td>\n",
              "      <td>0.00</td>\n",
              "      <td>0.31</td>\n",
              "      <td>0.00</td>\n",
              "      <td>0.00</td>\n",
              "      <td>3.18</td>\n",
              "      <td>0.00</td>\n",
              "      <td>0.31</td>\n",
              "      <td>0.0</td>\n",
              "      <td>0.00</td>\n",
              "      <td>0.00</td>\n",
              "      <td>0.0</td>\n",
              "      <td>0.0</td>\n",
              "      <td>0.0</td>\n",
              "      <td>0.0</td>\n",
              "      <td>0.0</td>\n",
              "      <td>0.0</td>\n",
              "      <td>0.0</td>\n",
              "      <td>0.0</td>\n",
              "      <td>0.0</td>\n",
              "      <td>0.0</td>\n",
              "      <td>0.0</td>\n",
              "      <td>0.0</td>\n",
              "      <td>0.00</td>\n",
              "      <td>0.0</td>\n",
              "      <td>0.0</td>\n",
              "      <td>0.00</td>\n",
              "      <td>0.0</td>\n",
              "      <td>0.0</td>\n",
              "      <td>0.00</td>\n",
              "      <td>0.00</td>\n",
              "      <td>0.00</td>\n",
              "      <td>0.00</td>\n",
              "      <td>0.0</td>\n",
              "      <td>0.0</td>\n",
              "      <td>0.000</td>\n",
              "      <td>0.135</td>\n",
              "      <td>0.0</td>\n",
              "      <td>0.135</td>\n",
              "      <td>0.000</td>\n",
              "      <td>0.000</td>\n",
              "      <td>3.537</td>\n",
              "      <td>40</td>\n",
              "      <td>191</td>\n",
              "    </tr>\n",
              "    <tr>\n",
              "      <th>...</th>\n",
              "      <td>...</td>\n",
              "      <td>...</td>\n",
              "      <td>...</td>\n",
              "      <td>...</td>\n",
              "      <td>...</td>\n",
              "      <td>...</td>\n",
              "      <td>...</td>\n",
              "      <td>...</td>\n",
              "      <td>...</td>\n",
              "      <td>...</td>\n",
              "      <td>...</td>\n",
              "      <td>...</td>\n",
              "      <td>...</td>\n",
              "      <td>...</td>\n",
              "      <td>...</td>\n",
              "      <td>...</td>\n",
              "      <td>...</td>\n",
              "      <td>...</td>\n",
              "      <td>...</td>\n",
              "      <td>...</td>\n",
              "      <td>...</td>\n",
              "      <td>...</td>\n",
              "      <td>...</td>\n",
              "      <td>...</td>\n",
              "      <td>...</td>\n",
              "      <td>...</td>\n",
              "      <td>...</td>\n",
              "      <td>...</td>\n",
              "      <td>...</td>\n",
              "      <td>...</td>\n",
              "      <td>...</td>\n",
              "      <td>...</td>\n",
              "      <td>...</td>\n",
              "      <td>...</td>\n",
              "      <td>...</td>\n",
              "      <td>...</td>\n",
              "      <td>...</td>\n",
              "      <td>...</td>\n",
              "      <td>...</td>\n",
              "      <td>...</td>\n",
              "      <td>...</td>\n",
              "      <td>...</td>\n",
              "      <td>...</td>\n",
              "      <td>...</td>\n",
              "      <td>...</td>\n",
              "      <td>...</td>\n",
              "      <td>...</td>\n",
              "      <td>...</td>\n",
              "      <td>...</td>\n",
              "      <td>...</td>\n",
              "      <td>...</td>\n",
              "      <td>...</td>\n",
              "      <td>...</td>\n",
              "      <td>...</td>\n",
              "      <td>...</td>\n",
              "      <td>...</td>\n",
              "      <td>...</td>\n",
              "      <td>...</td>\n",
              "      <td>...</td>\n",
              "    </tr>\n",
              "    <tr>\n",
              "      <th>4596</th>\n",
              "      <td>False</td>\n",
              "      <td>False</td>\n",
              "      <td>0.31</td>\n",
              "      <td>0.00</td>\n",
              "      <td>0.62</td>\n",
              "      <td>0.0</td>\n",
              "      <td>0.00</td>\n",
              "      <td>0.31</td>\n",
              "      <td>0.00</td>\n",
              "      <td>0.00</td>\n",
              "      <td>0.00</td>\n",
              "      <td>0.00</td>\n",
              "      <td>0.00</td>\n",
              "      <td>1.88</td>\n",
              "      <td>0.00</td>\n",
              "      <td>0.00</td>\n",
              "      <td>0.00</td>\n",
              "      <td>0.00</td>\n",
              "      <td>0.00</td>\n",
              "      <td>0.00</td>\n",
              "      <td>0.62</td>\n",
              "      <td>0.00</td>\n",
              "      <td>0.00</td>\n",
              "      <td>0.0</td>\n",
              "      <td>0.00</td>\n",
              "      <td>0.00</td>\n",
              "      <td>0.0</td>\n",
              "      <td>0.0</td>\n",
              "      <td>0.0</td>\n",
              "      <td>0.0</td>\n",
              "      <td>0.0</td>\n",
              "      <td>0.0</td>\n",
              "      <td>0.0</td>\n",
              "      <td>0.0</td>\n",
              "      <td>0.0</td>\n",
              "      <td>0.0</td>\n",
              "      <td>0.0</td>\n",
              "      <td>0.0</td>\n",
              "      <td>0.00</td>\n",
              "      <td>0.0</td>\n",
              "      <td>0.0</td>\n",
              "      <td>0.00</td>\n",
              "      <td>0.0</td>\n",
              "      <td>0.0</td>\n",
              "      <td>0.00</td>\n",
              "      <td>0.31</td>\n",
              "      <td>0.31</td>\n",
              "      <td>0.31</td>\n",
              "      <td>0.0</td>\n",
              "      <td>0.0</td>\n",
              "      <td>0.000</td>\n",
              "      <td>0.232</td>\n",
              "      <td>0.0</td>\n",
              "      <td>0.000</td>\n",
              "      <td>0.000</td>\n",
              "      <td>0.000</td>\n",
              "      <td>1.142</td>\n",
              "      <td>3</td>\n",
              "      <td>88</td>\n",
              "    </tr>\n",
              "    <tr>\n",
              "      <th>4597</th>\n",
              "      <td>False</td>\n",
              "      <td>False</td>\n",
              "      <td>0.00</td>\n",
              "      <td>0.00</td>\n",
              "      <td>0.00</td>\n",
              "      <td>0.0</td>\n",
              "      <td>0.00</td>\n",
              "      <td>0.00</td>\n",
              "      <td>0.00</td>\n",
              "      <td>0.00</td>\n",
              "      <td>0.00</td>\n",
              "      <td>0.00</td>\n",
              "      <td>0.00</td>\n",
              "      <td>0.00</td>\n",
              "      <td>0.00</td>\n",
              "      <td>0.00</td>\n",
              "      <td>0.00</td>\n",
              "      <td>0.00</td>\n",
              "      <td>0.00</td>\n",
              "      <td>0.00</td>\n",
              "      <td>6.00</td>\n",
              "      <td>0.00</td>\n",
              "      <td>2.00</td>\n",
              "      <td>0.0</td>\n",
              "      <td>0.00</td>\n",
              "      <td>0.00</td>\n",
              "      <td>0.0</td>\n",
              "      <td>0.0</td>\n",
              "      <td>0.0</td>\n",
              "      <td>0.0</td>\n",
              "      <td>0.0</td>\n",
              "      <td>0.0</td>\n",
              "      <td>0.0</td>\n",
              "      <td>0.0</td>\n",
              "      <td>0.0</td>\n",
              "      <td>0.0</td>\n",
              "      <td>0.0</td>\n",
              "      <td>0.0</td>\n",
              "      <td>0.00</td>\n",
              "      <td>0.0</td>\n",
              "      <td>0.0</td>\n",
              "      <td>0.00</td>\n",
              "      <td>0.0</td>\n",
              "      <td>0.0</td>\n",
              "      <td>0.00</td>\n",
              "      <td>0.00</td>\n",
              "      <td>0.00</td>\n",
              "      <td>2.00</td>\n",
              "      <td>0.0</td>\n",
              "      <td>0.0</td>\n",
              "      <td>0.000</td>\n",
              "      <td>0.000</td>\n",
              "      <td>0.0</td>\n",
              "      <td>0.353</td>\n",
              "      <td>0.000</td>\n",
              "      <td>0.000</td>\n",
              "      <td>1.555</td>\n",
              "      <td>4</td>\n",
              "      <td>14</td>\n",
              "    </tr>\n",
              "    <tr>\n",
              "      <th>4598</th>\n",
              "      <td>False</td>\n",
              "      <td>False</td>\n",
              "      <td>0.30</td>\n",
              "      <td>0.00</td>\n",
              "      <td>0.30</td>\n",
              "      <td>0.0</td>\n",
              "      <td>0.00</td>\n",
              "      <td>0.00</td>\n",
              "      <td>0.00</td>\n",
              "      <td>0.00</td>\n",
              "      <td>0.00</td>\n",
              "      <td>0.00</td>\n",
              "      <td>0.00</td>\n",
              "      <td>1.80</td>\n",
              "      <td>0.30</td>\n",
              "      <td>0.00</td>\n",
              "      <td>0.00</td>\n",
              "      <td>0.00</td>\n",
              "      <td>0.00</td>\n",
              "      <td>0.90</td>\n",
              "      <td>1.50</td>\n",
              "      <td>0.00</td>\n",
              "      <td>0.30</td>\n",
              "      <td>0.0</td>\n",
              "      <td>0.00</td>\n",
              "      <td>0.00</td>\n",
              "      <td>0.0</td>\n",
              "      <td>0.0</td>\n",
              "      <td>0.0</td>\n",
              "      <td>0.0</td>\n",
              "      <td>0.0</td>\n",
              "      <td>0.0</td>\n",
              "      <td>0.0</td>\n",
              "      <td>0.0</td>\n",
              "      <td>0.0</td>\n",
              "      <td>0.0</td>\n",
              "      <td>0.0</td>\n",
              "      <td>0.0</td>\n",
              "      <td>0.00</td>\n",
              "      <td>0.0</td>\n",
              "      <td>0.0</td>\n",
              "      <td>0.00</td>\n",
              "      <td>0.0</td>\n",
              "      <td>0.0</td>\n",
              "      <td>0.00</td>\n",
              "      <td>0.00</td>\n",
              "      <td>0.00</td>\n",
              "      <td>1.20</td>\n",
              "      <td>0.0</td>\n",
              "      <td>0.0</td>\n",
              "      <td>0.102</td>\n",
              "      <td>0.718</td>\n",
              "      <td>0.0</td>\n",
              "      <td>0.000</td>\n",
              "      <td>0.000</td>\n",
              "      <td>0.000</td>\n",
              "      <td>1.404</td>\n",
              "      <td>6</td>\n",
              "      <td>118</td>\n",
              "    </tr>\n",
              "    <tr>\n",
              "      <th>4599</th>\n",
              "      <td>False</td>\n",
              "      <td>False</td>\n",
              "      <td>0.96</td>\n",
              "      <td>0.00</td>\n",
              "      <td>0.00</td>\n",
              "      <td>0.0</td>\n",
              "      <td>0.32</td>\n",
              "      <td>0.00</td>\n",
              "      <td>0.00</td>\n",
              "      <td>0.00</td>\n",
              "      <td>0.00</td>\n",
              "      <td>0.00</td>\n",
              "      <td>0.00</td>\n",
              "      <td>0.32</td>\n",
              "      <td>0.00</td>\n",
              "      <td>0.00</td>\n",
              "      <td>0.00</td>\n",
              "      <td>0.00</td>\n",
              "      <td>0.00</td>\n",
              "      <td>0.00</td>\n",
              "      <td>1.93</td>\n",
              "      <td>0.00</td>\n",
              "      <td>0.32</td>\n",
              "      <td>0.0</td>\n",
              "      <td>0.00</td>\n",
              "      <td>0.00</td>\n",
              "      <td>0.0</td>\n",
              "      <td>0.0</td>\n",
              "      <td>0.0</td>\n",
              "      <td>0.0</td>\n",
              "      <td>0.0</td>\n",
              "      <td>0.0</td>\n",
              "      <td>0.0</td>\n",
              "      <td>0.0</td>\n",
              "      <td>0.0</td>\n",
              "      <td>0.0</td>\n",
              "      <td>0.0</td>\n",
              "      <td>0.0</td>\n",
              "      <td>0.00</td>\n",
              "      <td>0.0</td>\n",
              "      <td>0.0</td>\n",
              "      <td>0.00</td>\n",
              "      <td>0.0</td>\n",
              "      <td>0.0</td>\n",
              "      <td>0.00</td>\n",
              "      <td>0.32</td>\n",
              "      <td>0.00</td>\n",
              "      <td>0.32</td>\n",
              "      <td>0.0</td>\n",
              "      <td>0.0</td>\n",
              "      <td>0.000</td>\n",
              "      <td>0.057</td>\n",
              "      <td>0.0</td>\n",
              "      <td>0.000</td>\n",
              "      <td>0.000</td>\n",
              "      <td>0.000</td>\n",
              "      <td>1.147</td>\n",
              "      <td>5</td>\n",
              "      <td>78</td>\n",
              "    </tr>\n",
              "    <tr>\n",
              "      <th>4600</th>\n",
              "      <td>False</td>\n",
              "      <td>False</td>\n",
              "      <td>0.00</td>\n",
              "      <td>0.00</td>\n",
              "      <td>0.65</td>\n",
              "      <td>0.0</td>\n",
              "      <td>0.00</td>\n",
              "      <td>0.00</td>\n",
              "      <td>0.00</td>\n",
              "      <td>0.00</td>\n",
              "      <td>0.00</td>\n",
              "      <td>0.00</td>\n",
              "      <td>0.00</td>\n",
              "      <td>0.00</td>\n",
              "      <td>0.65</td>\n",
              "      <td>0.00</td>\n",
              "      <td>0.00</td>\n",
              "      <td>0.00</td>\n",
              "      <td>0.00</td>\n",
              "      <td>0.00</td>\n",
              "      <td>4.60</td>\n",
              "      <td>0.00</td>\n",
              "      <td>0.65</td>\n",
              "      <td>0.0</td>\n",
              "      <td>0.00</td>\n",
              "      <td>0.00</td>\n",
              "      <td>0.0</td>\n",
              "      <td>0.0</td>\n",
              "      <td>0.0</td>\n",
              "      <td>0.0</td>\n",
              "      <td>0.0</td>\n",
              "      <td>0.0</td>\n",
              "      <td>0.0</td>\n",
              "      <td>0.0</td>\n",
              "      <td>0.0</td>\n",
              "      <td>0.0</td>\n",
              "      <td>0.0</td>\n",
              "      <td>0.0</td>\n",
              "      <td>0.00</td>\n",
              "      <td>0.0</td>\n",
              "      <td>0.0</td>\n",
              "      <td>0.00</td>\n",
              "      <td>0.0</td>\n",
              "      <td>0.0</td>\n",
              "      <td>0.00</td>\n",
              "      <td>0.00</td>\n",
              "      <td>1.97</td>\n",
              "      <td>0.65</td>\n",
              "      <td>0.0</td>\n",
              "      <td>0.0</td>\n",
              "      <td>0.000</td>\n",
              "      <td>0.000</td>\n",
              "      <td>0.0</td>\n",
              "      <td>0.125</td>\n",
              "      <td>0.000</td>\n",
              "      <td>0.000</td>\n",
              "      <td>1.250</td>\n",
              "      <td>5</td>\n",
              "      <td>40</td>\n",
              "    </tr>\n",
              "  </tbody>\n",
              "</table>\n",
              "<p>4601 rows × 59 columns</p>\n",
              "</div>"
            ],
            "text/plain": [
              "       spam  testid  make  address   all   3d   our  over  remove  internet  order  mail  receive  will  people  report  addresses  free  business  email   you  credit  your  font   000  money   hp  hpl  george  650  lab  labs  telnet  857  data  415   85  technology  1999  parts   pm  direct   cs  meeting  original  project    re   edu  table  conference    ch;    ch(  ch[    ch!    ch$    ch#  crl.ave  crl.long  crl.tot\n",
              "0      True    True  0.00     0.64  0.64  0.0  0.32  0.00    0.00      0.00   0.00  0.00     0.00  0.64    0.00    0.00       0.00  0.32      0.00   1.29  1.93    0.00  0.96   0.0  0.00   0.00  0.0  0.0     0.0  0.0  0.0   0.0     0.0  0.0   0.0  0.0  0.0         0.0  0.00    0.0  0.0    0.00  0.0      0.0      0.00     0.00  0.00  0.00    0.0         0.0  0.000  0.000  0.0  0.778  0.000  0.000    3.756        61      278\n",
              "1      True   False  0.21     0.28  0.50  0.0  0.14  0.28    0.21      0.07   0.00  0.94     0.21  0.79    0.65    0.21       0.14  0.14      0.07   0.28  3.47    0.00  1.59   0.0  0.43   0.43  0.0  0.0     0.0  0.0  0.0   0.0     0.0  0.0   0.0  0.0  0.0         0.0  0.07    0.0  0.0    0.00  0.0      0.0      0.00     0.00  0.00  0.00    0.0         0.0  0.000  0.132  0.0  0.372  0.180  0.048    5.114       101     1028\n",
              "2      True    True  0.06     0.00  0.71  0.0  1.23  0.19    0.19      0.12   0.64  0.25     0.38  0.45    0.12    0.00       1.75  0.06      0.06   1.03  1.36    0.32  0.51   0.0  1.16   0.06  0.0  0.0     0.0  0.0  0.0   0.0     0.0  0.0   0.0  0.0  0.0         0.0  0.00    0.0  0.0    0.06  0.0      0.0      0.12     0.00  0.06  0.06    0.0         0.0  0.010  0.143  0.0  0.276  0.184  0.010    9.821       485     2259\n",
              "3      True   False  0.00     0.00  0.00  0.0  0.63  0.00    0.31      0.63   0.31  0.63     0.31  0.31    0.31    0.00       0.00  0.31      0.00   0.00  3.18    0.00  0.31   0.0  0.00   0.00  0.0  0.0     0.0  0.0  0.0   0.0     0.0  0.0   0.0  0.0  0.0         0.0  0.00    0.0  0.0    0.00  0.0      0.0      0.00     0.00  0.00  0.00    0.0         0.0  0.000  0.137  0.0  0.137  0.000  0.000    3.537        40      191\n",
              "4      True   False  0.00     0.00  0.00  0.0  0.63  0.00    0.31      0.63   0.31  0.63     0.31  0.31    0.31    0.00       0.00  0.31      0.00   0.00  3.18    0.00  0.31   0.0  0.00   0.00  0.0  0.0     0.0  0.0  0.0   0.0     0.0  0.0   0.0  0.0  0.0         0.0  0.00    0.0  0.0    0.00  0.0      0.0      0.00     0.00  0.00  0.00    0.0         0.0  0.000  0.135  0.0  0.135  0.000  0.000    3.537        40      191\n",
              "...     ...     ...   ...      ...   ...  ...   ...   ...     ...       ...    ...   ...      ...   ...     ...     ...        ...   ...       ...    ...   ...     ...   ...   ...   ...    ...  ...  ...     ...  ...  ...   ...     ...  ...   ...  ...  ...         ...   ...    ...  ...     ...  ...      ...       ...      ...   ...   ...    ...         ...    ...    ...  ...    ...    ...    ...      ...       ...      ...\n",
              "4596  False   False  0.31     0.00  0.62  0.0  0.00  0.31    0.00      0.00   0.00  0.00     0.00  1.88    0.00    0.00       0.00  0.00      0.00   0.00  0.62    0.00  0.00   0.0  0.00   0.00  0.0  0.0     0.0  0.0  0.0   0.0     0.0  0.0   0.0  0.0  0.0         0.0  0.00    0.0  0.0    0.00  0.0      0.0      0.00     0.31  0.31  0.31    0.0         0.0  0.000  0.232  0.0  0.000  0.000  0.000    1.142         3       88\n",
              "4597  False   False  0.00     0.00  0.00  0.0  0.00  0.00    0.00      0.00   0.00  0.00     0.00  0.00    0.00    0.00       0.00  0.00      0.00   0.00  6.00    0.00  2.00   0.0  0.00   0.00  0.0  0.0     0.0  0.0  0.0   0.0     0.0  0.0   0.0  0.0  0.0         0.0  0.00    0.0  0.0    0.00  0.0      0.0      0.00     0.00  0.00  2.00    0.0         0.0  0.000  0.000  0.0  0.353  0.000  0.000    1.555         4       14\n",
              "4598  False   False  0.30     0.00  0.30  0.0  0.00  0.00    0.00      0.00   0.00  0.00     0.00  1.80    0.30    0.00       0.00  0.00      0.00   0.90  1.50    0.00  0.30   0.0  0.00   0.00  0.0  0.0     0.0  0.0  0.0   0.0     0.0  0.0   0.0  0.0  0.0         0.0  0.00    0.0  0.0    0.00  0.0      0.0      0.00     0.00  0.00  1.20    0.0         0.0  0.102  0.718  0.0  0.000  0.000  0.000    1.404         6      118\n",
              "4599  False   False  0.96     0.00  0.00  0.0  0.32  0.00    0.00      0.00   0.00  0.00     0.00  0.32    0.00    0.00       0.00  0.00      0.00   0.00  1.93    0.00  0.32   0.0  0.00   0.00  0.0  0.0     0.0  0.0  0.0   0.0     0.0  0.0   0.0  0.0  0.0         0.0  0.00    0.0  0.0    0.00  0.0      0.0      0.00     0.32  0.00  0.32    0.0         0.0  0.000  0.057  0.0  0.000  0.000  0.000    1.147         5       78\n",
              "4600  False   False  0.00     0.00  0.65  0.0  0.00  0.00    0.00      0.00   0.00  0.00     0.00  0.00    0.65    0.00       0.00  0.00      0.00   0.00  4.60    0.00  0.65   0.0  0.00   0.00  0.0  0.0     0.0  0.0  0.0   0.0     0.0  0.0   0.0  0.0  0.0         0.0  0.00    0.0  0.0    0.00  0.0      0.0      0.00     0.00  1.97  0.65    0.0         0.0  0.000  0.000  0.0  0.125  0.000  0.000    1.250         5       40\n",
              "\n",
              "[4601 rows x 59 columns]"
            ]
          },
          "metadata": {
            "tags": []
          },
          "execution_count": 22
        }
      ]
    },
    {
      "cell_type": "markdown",
      "metadata": {
        "id": "H8mJjFO8H1ZN"
      },
      "source": [
        "## Exploration des Données"
      ]
    },
    {
      "cell_type": "code",
      "metadata": {
        "id": "IWz8yCNcsJiS",
        "colab": {
          "base_uri": "https://localhost:8080/"
        },
        "outputId": "8519d39b-6824-40cc-926d-9a68a582aab8"
      },
      "source": [
        "spam_df.info()"
      ],
      "execution_count": 23,
      "outputs": [
        {
          "output_type": "stream",
          "text": [
            "<class 'pandas.core.frame.DataFrame'>\n",
            "RangeIndex: 4601 entries, 0 to 4600\n",
            "Data columns (total 59 columns):\n",
            " #   Column      Non-Null Count  Dtype  \n",
            "---  ------      --------------  -----  \n",
            " 0   spam        4601 non-null   bool   \n",
            " 1   testid      4601 non-null   bool   \n",
            " 2   make        4601 non-null   float64\n",
            " 3   address     4601 non-null   float64\n",
            " 4   all         4601 non-null   float64\n",
            " 5   3d          4601 non-null   float64\n",
            " 6   our         4601 non-null   float64\n",
            " 7   over        4601 non-null   float64\n",
            " 8   remove      4601 non-null   float64\n",
            " 9   internet    4601 non-null   float64\n",
            " 10  order       4601 non-null   float64\n",
            " 11  mail        4601 non-null   float64\n",
            " 12  receive     4601 non-null   float64\n",
            " 13  will        4601 non-null   float64\n",
            " 14  people      4601 non-null   float64\n",
            " 15  report      4601 non-null   float64\n",
            " 16  addresses   4601 non-null   float64\n",
            " 17  free        4601 non-null   float64\n",
            " 18  business    4601 non-null   float64\n",
            " 19  email       4601 non-null   float64\n",
            " 20  you         4601 non-null   float64\n",
            " 21  credit      4601 non-null   float64\n",
            " 22  your        4601 non-null   float64\n",
            " 23  font        4601 non-null   float64\n",
            " 24  000         4601 non-null   float64\n",
            " 25  money       4601 non-null   float64\n",
            " 26  hp          4601 non-null   float64\n",
            " 27  hpl         4601 non-null   float64\n",
            " 28  george      4601 non-null   float64\n",
            " 29  650         4601 non-null   float64\n",
            " 30  lab         4601 non-null   float64\n",
            " 31  labs        4601 non-null   float64\n",
            " 32  telnet      4601 non-null   float64\n",
            " 33  857         4601 non-null   float64\n",
            " 34  data        4601 non-null   float64\n",
            " 35  415         4601 non-null   float64\n",
            " 36  85          4601 non-null   float64\n",
            " 37  technology  4601 non-null   float64\n",
            " 38  1999        4601 non-null   float64\n",
            " 39  parts       4601 non-null   float64\n",
            " 40  pm          4601 non-null   float64\n",
            " 41  direct      4601 non-null   float64\n",
            " 42  cs          4601 non-null   float64\n",
            " 43  meeting     4601 non-null   float64\n",
            " 44  original    4601 non-null   float64\n",
            " 45  project     4601 non-null   float64\n",
            " 46  re          4601 non-null   float64\n",
            " 47  edu         4601 non-null   float64\n",
            " 48  table       4601 non-null   float64\n",
            " 49  conference  4601 non-null   float64\n",
            " 50  ch;         4601 non-null   float64\n",
            " 51  ch(         4601 non-null   float64\n",
            " 52  ch[         4601 non-null   float64\n",
            " 53  ch!         4601 non-null   float64\n",
            " 54  ch$         4601 non-null   float64\n",
            " 55  ch#         4601 non-null   float64\n",
            " 56  crl.ave     4601 non-null   float64\n",
            " 57  crl.long    4601 non-null   int64  \n",
            " 58  crl.tot     4601 non-null   int64  \n",
            "dtypes: bool(2), float64(55), int64(2)\n",
            "memory usage: 2.0 MB\n"
          ],
          "name": "stdout"
        }
      ]
    },
    {
      "cell_type": "markdown",
      "metadata": {
        "id": "8NhcxaMYlsPR"
      },
      "source": [
        "Les variables prédictives sont toutes continues. Elles représentent certaines caractéristiques comme la fréquence du mot \"`discount`\". La spécification et la description exactes de chaque prédicteur peuvent être trouvées en ligne. De plus la variable \"testid\" n'est pas importante par conséquent doit être supprimée."
      ]
    },
    {
      "cell_type": "code",
      "metadata": {
        "id": "rK8M9070JIIi"
      },
      "source": [
        "spam_df.drop('testid', axis=1, inplace=True)"
      ],
      "execution_count": 24,
      "outputs": []
    },
    {
      "cell_type": "code",
      "metadata": {
        "colab": {
          "base_uri": "https://localhost:8080/"
        },
        "id": "GhMlH2dsKiye",
        "outputId": "b44b0b48-ee81-42b9-cdcc-2b2b46ecd2b5"
      },
      "source": [
        "print(spam_df.isna().sum().sum())"
      ],
      "execution_count": 25,
      "outputs": [
        {
          "output_type": "stream",
          "text": [
            "0\n"
          ],
          "name": "stdout"
        }
      ]
    },
    {
      "cell_type": "markdown",
      "metadata": {
        "id": "61lJ26_zKqSp"
      },
      "source": [
        "Le dataset ne contient pas de valeur manquante."
      ]
    },
    {
      "cell_type": "code",
      "metadata": {
        "colab": {
          "base_uri": "https://localhost:8080/",
          "height": 279
        },
        "id": "_H_VA-HjJXjb",
        "outputId": "a26367f3-6d50-4ea2-cd75-70df2f530c3f"
      },
      "source": [
        "sns.countplot(x=\"spam\", data=spam_df)\n",
        "plt.savefig('repartition')\n",
        "plt.show()"
      ],
      "execution_count": 26,
      "outputs": [
        {
          "output_type": "display_data",
          "data": {
            "image/png": "[encoded data removed]",
            "text/plain": [
              "<Figure size 432x288 with 1 Axes>"
            ]
          },
          "metadata": {
            "tags": [],
            "needs_background": "light"
          }
        }
      ]
    },
    {
      "cell_type": "markdown",
      "metadata": {
        "id": "aIx_bXbnJ5el"
      },
      "source": [
        "On constate qu'il n'existe pas de déséquilibre entre les deux classes(les deux classes ont presque le même nombre d'échantillons)."
      ]
    },
    {
      "cell_type": "code",
      "metadata": {
        "id": "njWOsESJLogS"
      },
      "source": [
        "# #Visualisation de la distribution des variables dans chaque sous population (swarmplot)\n",
        "\n",
        "# df = pd.melt(spam_df,id_vars=\"spam\",       \n",
        "#                     var_name=\"variables\",\n",
        "#                     value_name='valeurs')\n",
        "\n",
        "# plt.figure(figsize=(16,10))\n",
        "# sns.swarmplot(x=\"variables\", y=\"valeurs\", hue=\"spam\", data=df)\n",
        "# plt.xticks(rotation=70)"
      ],
      "execution_count": 10,
      "outputs": []
    },
    {
      "cell_type": "markdown",
      "metadata": {
        "id": "no67a5ekSDge"
      },
      "source": [
        "## Modelisation\n",
        "### Split train/test dataset\n",
        "\n",
        "Le dataset est divisé en deux parties: 70% des données pour l'entrainement et les 30% restante pour l'évaluation des modèles.  "
      ]
    },
    {
      "cell_type": "code",
      "metadata": {
        "colab": {
          "base_uri": "https://localhost:8080/"
        },
        "id": "W2LsaAb0lsPS",
        "outputId": "2441c687-4c0b-446a-ec4e-21a623597329"
      },
      "source": [
        "#Split data into train and test\n",
        "np.random.seed(42)\n",
        "msk = np.random.rand(len(spam_df)) <= 0.7\n",
        "data_train = spam_df[msk]\n",
        "data_test = spam_df[~msk]\n",
        "\n",
        "#Split predictor and response columns\n",
        "x_train, y_train = data_train.drop(['spam'], axis=1), data_train['spam']\n",
        "x_test , y_test  = data_test.drop(['spam'] , axis=1), data_test['spam']\n",
        "\n",
        "print(\"Shape of Training Set :\",data_train.shape)\n",
        "print(\"Shape of Testing Set :\" ,data_test.shape)"
      ],
      "execution_count": 27,
      "outputs": [
        {
          "output_type": "stream",
          "text": [
            "Shape of Training Set : (3262, 58)\n",
            "Shape of Testing Set : (1339, 58)\n"
          ],
          "name": "stdout"
        }
      ]
    },
    {
      "cell_type": "code",
      "metadata": {
        "colab": {
          "base_uri": "https://localhost:8080/",
          "height": 279
        },
        "id": "jfA9wO5KlsPS",
        "outputId": "545de431-d3ae-45e2-a496-f5a3d512dc65"
      },
      "source": [
        "plt.figure(figsize=(10, 4))\n",
        "plt.subplot(1,2,1)\n",
        "sns.countplot(x='spam', data=data_train)\n",
        "plt.subplot(1,2,2)\n",
        "sns.countplot(x='spam', data=data_test)\n",
        "plt.show()"
      ],
      "execution_count": 28,
      "outputs": [
        {
          "output_type": "display_data",
          "data": {
            "image/png": "[encoded data removed]",
            "text/plain": [
              "<Figure size 720x288 with 2 Axes>"
            ]
          },
          "metadata": {
            "tags": [],
            "needs_background": "light"
          }
        }
      ]
    },
    {
      "cell_type": "markdown",
      "metadata": {
        "id": "oCUS73AUlsPT"
      },
      "source": [
        "On note que le nombre de cas de spam est représenté de manière à peu près égale dans le train et le test set."
      ]
    },
    {
      "cell_type": "code",
      "metadata": {
        "id": "pHJRqU2ulsPT"
      },
      "source": [
        "# #Check Percentage of Spam in Train and Test Set\n",
        "# percentage_spam_training = 100*y_train.sum()/len(y_train)\n",
        "# percentage_spam_testing  = 100*y_test.sum()/len(y_test)\n",
        "                                                  \n",
        "# print(\"Percentage of Spam in Training Set \\t : {:0.2f}%.\".format(percentage_spam_training))\n",
        "# print(\"Percentage of Spam in Testing Set \\t : {:0.2f}%.\".format(percentage_spam_testing))"
      ],
      "execution_count": 29,
      "outputs": []
    },
    {
      "cell_type": "markdown",
      "metadata": {
        "id": "tc525s81lsPT"
      },
      "source": [
        "-----------\n",
        "\n",
        "# Ajustement d'un arbre de décision unique optimal (profondeur) :"
      ]
    },
    {
      "cell_type": "markdown",
      "metadata": {
        "id": "Ji-xEHs3lsPU"
      },
      "source": [
        "Nous adaptons ici un seul arbre à notre ensemble de données de spam et effectuons une validation croisée (5-fold) sur le train set. Pour chaque profondeur de l'arbre, nous ajustons un arbre et calculons ensuite les scores de validation croisée à cinq reprises. Ces scores sont ensuite moyennés et comparés entre les différentes profondeurs. "
      ]
    },
    {
      "cell_type": "code",
      "metadata": {
        "id": "eqcU0A9ilsPU",
        "colab": {
          "base_uri": "https://localhost:8080/",
          "height": 312
        },
        "outputId": "c7d610d4-40e1-4b3e-ba12-1f11c56911c7"
      },
      "source": [
        "#Find optimal depth of trees\n",
        "mean_CV_acc = {}\n",
        "all_CV_acc = {}\n",
        "tree_depth_start, tree_depth_end, steps = 3, 31, 4\n",
        "for i in range(tree_depth_start, tree_depth_end, steps):\n",
        "    model = DecisionTreeClassifier(max_depth=i)\n",
        "    score = cross_val_score(estimator=model, X=x_train, y=y_train, cv=5, n_jobs=-1)\n",
        "    all_CV_acc[i] = score\n",
        "    mean_CV_acc[i] = score.mean()\n",
        "\n",
        "#Make best depth a variable\n",
        "best_depth = sorted(mean_CV_acc, key=mean_CV_acc.get, reverse=True)[0]\n",
        "print(\"The best depth was found to be:\", best_depth)\n",
        "\n",
        "\n",
        "#Plot\n",
        "plt.ylabel(\"Cross Validation Accuracy\")\n",
        "plt.xlabel(\"Maximum Depth\")\n",
        "plt.title('Variation of Accuracy with Depth - Simple Decision Tree')\n",
        "plt.plot(list(mean_CV_acc.keys()), list(mean_CV_acc.values()), 'b-', marker='o')\n",
        "plt.show()\n"
      ],
      "execution_count": 32,
      "outputs": [
        {
          "output_type": "stream",
          "text": [
            "The best depth was found to be: 7\n"
          ],
          "name": "stdout"
        },
        {
          "output_type": "display_data",
          "data": {
            "image/png": "[encoded data removed]",
            "text/plain": [
              "<Figure size 432x288 with 1 Axes>"
            ]
          },
          "metadata": {
            "tags": [],
            "needs_background": "light"
          }
        }
      ]
    },
    {
      "cell_type": "markdown",
      "metadata": {
        "id": "AHSxuO7hlsPV"
      },
      "source": [
        "Comme nous pouvons le constater, la profondeur optimale est de 7."
      ]
    },
    {
      "cell_type": "markdown",
      "metadata": {
        "id": "fE3XzRiK4ytS"
      },
      "source": [
        "Nous voulons obtenir l'intervalle de confiance de ces résultats en utilisant ``scores.std()`` et ``plt.fill_between()``."
      ]
    },
    {
      "cell_type": "code",
      "metadata": {
        "colab": {
          "base_uri": "https://localhost:8080/",
          "height": 295
        },
        "id": "_qxGoru_4wqG",
        "outputId": "7feb901e-1d1e-4927-ff96-8c2698b7d268"
      },
      "source": [
        "x = list(mean_CV_acc.keys())\n",
        "y = list(mean_CV_acc.values())\n",
        "lists = sorted(mean_CV_acc.items())\n",
        "x, y = zip(*lists)   \n",
        "stds = np.array([ np.std(score) for score in all_CV_acc.values() ])\n",
        "plt.fill_between(x, y + stds, y - stds, alpha=0.2)\n",
        "\n",
        "#Plot\n",
        "plt.ylabel(\"Cross Validation Accuracy\")\n",
        "plt.xlabel(\"Maximum Depth\")\n",
        "plt.title('Variation of Accuracy with Depth - Simple Decision Tree')\n",
        "plt.plot(x, y, 'b-', marker='o')\n",
        "plt.show()"
      ],
      "execution_count": 34,
      "outputs": [
        {
          "output_type": "display_data",
          "data": {
            "image/png": "[encoded data removed]",
            "text/plain": [
              "<Figure size 432x288 with 1 Axes>"
            ]
          },
          "metadata": {
            "tags": [],
            "needs_background": "light"
          }
        }
      ]
    },
    {
      "cell_type": "markdown",
      "metadata": {
        "id": "RcKuNGkdXKfr"
      },
      "source": [
        "## Training et Evaluation du modèle avec cette profondeur"
      ]
    },
    {
      "cell_type": "code",
      "metadata": {
        "colab": {
          "base_uri": "https://localhost:8080/"
        },
        "id": "MuI7w0C1lsPY",
        "outputId": "0fe82b89-2c4b-42b3-c10f-4dbe20a482fe"
      },
      "source": [
        "#train model at the best depth\n",
        "model_tree = DecisionTreeClassifier(max_depth=best_depth)\n",
        "model_tree.fit(x_train, y_train)\n",
        "\n",
        "\n",
        "#Check Accuracy of Spam Detection in Train and Test Set\n",
        "print('Accuracy')\n",
        "print(\"Simple Decision Trees: Accuracy, Training Set \\t : {:.2%}\".format(metrics.accuracy_score(y_train, model_tree.predict(x_train))))\n",
        "print(\"Simple Decision Trees: Accuracy, Testing Set \\t : {:.2%}\".format(metrics.accuracy_score(y_test,  model_tree.predict(x_test))))\n",
        "print('Precision')\n",
        "print(\"Simple Decision Trees: precision, Training Set \\t : {:.2%}\".format(metrics.precision_score(y_train, model_tree.predict(x_train))))\n",
        "print(\"Simple Decision Trees: precision, Testing Set \\t : {:.2%}\".format(metrics.precision_score(y_test,  model_tree.predict(x_test))))\n",
        "print('Recall')\n",
        "print(\"Simple Decision Trees: Recall, Training Set \\t : {:.2%}\".format(metrics.recall_score(y_train, model_tree.predict(x_train))))\n",
        "print(\"Simple Decision Trees: Recall, Testing Set \\t : {:.2%}\".format(metrics.recall_score(y_test,  model_tree.predict(x_test))))"
      ],
      "execution_count": null,
      "outputs": [
        {
          "output_type": "stream",
          "text": [
            "Accuracy\n",
            "Simple Decision Trees: Accuracy, Training Set \t : 94.39%\n",
            "Simple Decision Trees: Accuracy, Testing Set \t : 90.81%\n",
            "Precision\n",
            "Simple Decision Trees: precision, Training Set \t : 95.06%\n",
            "Simple Decision Trees: precision, Testing Set \t : 90.87%\n",
            "Recall\n",
            "Simple Decision Trees: Recall, Training Set \t : 90.38%\n",
            "Simple Decision Trees: Recall, Testing Set \t : 85.61%\n"
          ],
          "name": "stdout"
        }
      ]
    },
    {
      "cell_type": "code",
      "metadata": {
        "id": "ZwWxzDeUlsPY"
      },
      "source": [
        "#Get Performance by Class (Lookup Confusion Matrix)\n",
        "def confusionmatrix_rocauc(model, nom_model):\n",
        "  \"\"\"\n",
        "  \"\"\"\n",
        "  plt.figure(figsize=(10, 4))\n",
        "  plt.subplot(121)\n",
        "  sns.heatmap(pd.crosstab(y_test, model.predict(x_test),\n",
        "                          rownames=['Actual'], colnames=['Predicted']), annot=True, cbar=False, fmt='d')\n",
        "  plt.title('confusion matrix: '+nom_model)\n",
        "  plt.subplot(122)\n",
        "  fpr, tpr, threshold = metrics.roc_curve(y_test, model.predict(x_test))\n",
        "\n",
        "  plt.title('Receiver Operating Characteristic')\n",
        "  plt.plot(fpr, tpr, 'b', label = 'AUC = %0.2f' % metrics.auc(fpr, tpr))\n",
        "  plt.legend(loc = 'lower right')\n",
        "  plt.plot([0, 1], [0, 1],'r--')\n",
        "  plt.xlim([0, 1])\n",
        "  plt.ylim([0, 1])\n",
        "  plt.ylabel('True Positive Rate')\n",
        "  plt.xlabel('False Positive Rate')\n",
        "  plt.savefig('confu_roc_'+nom_model)\n",
        "  plt.show()"
      ],
      "execution_count": null,
      "outputs": []
    },
    {
      "cell_type": "code",
      "metadata": {
        "colab": {
          "base_uri": "https://localhost:8080/",
          "height": 295
        },
        "id": "dt5YmqKGfltL",
        "outputId": "d01b0deb-a0c6-4770-a1bf-02ef67a63094"
      },
      "source": [
        "model = model_tree\n",
        "nom_model = 'Arbre de Decision'\n",
        "confusionmatrix_rocauc(model, nom_model)"
      ],
      "execution_count": null,
      "outputs": [
        {
          "output_type": "display_data",
          "data": {
            "image/png": "[encoded data removed]",
            "text/plain": [
              "<Figure size 720x288 with 2 Axes>"
            ]
          },
          "metadata": {
            "tags": [],
            "needs_background": "light"
          }
        }
      ]
    },
    {
      "cell_type": "markdown",
      "metadata": {
        "id": "6jqHcXyolsPa"
      },
      "source": [
        "\n",
        "--------\n",
        "\n",
        "\n",
        "# Bagging et Vote\n",
        "\n",
        "#### Qu'est-ce que le bagging ?\n",
        "  1. Bootstrapping : rééchantillonnage avec des remplacements pour obtenir différents ensembles de données et construire différents modèles.\n",
        "  2. Faire quelque chose d'intelligent pour combiner les différents modèles.\n",
        "  \n",
        "Une façon d'ajuster la variance élevée des résultats d'une expérience est de réaliser l'expérience plusieurs fois, puis de faire la moyenne des résultats. \n",
        "\n",
        " 1. **Bootstrap:** nous générons de multiples échantillons de données de formation, via bootstrapping. Nous formons un arbre de décision complet sur chaque échantillon de données. \n",
        " 2. **Agrégation** : pour une entrée donnée, nous produisons la moyenne des sorties de tous les modèles pour cette entrée. \n",
        "\n",
        "-----------\n",
        "\n",
        "Rééchantillonnons notre ensemble de données de formation pour créer plusieurs ensembles de données et adapter les modèles d'arbre décisionnel à chacun d'eux.\n",
        "\n",
        "(Rééchantillonnage : nous avons montré en direct que différents échantillons donnent des résultats différents pour des choses comme les sommes, variant davantage lorsque les choses sur lesquelles nous additionnons ont elles-mêmes une variance élevée)."
      ]
    },
    {
      "cell_type": "code",
      "metadata": {
        "colab": {
          "base_uri": "https://localhost:8080/",
          "height": 97
        },
        "id": "6XSRTPJplsPa",
        "outputId": "d79b7b6d-42ae-49da-cbf3-6c6dd5671769"
      },
      "source": [
        "# Stat on all data\n",
        "data_train.mean(axis=0).to_frame('mean').T"
      ],
      "execution_count": null,
      "outputs": [
        {
          "output_type": "execute_result",
          "data": {
            "text/html": [
              "<div>\n",
              "<style scoped>\n",
              "    .dataframe tbody tr th:only-of-type {\n",
              "        vertical-align: middle;\n",
              "    }\n",
              "\n",
              "    .dataframe tbody tr th {\n",
              "        vertical-align: top;\n",
              "    }\n",
              "\n",
              "    .dataframe thead th {\n",
              "        text-align: right;\n",
              "    }\n",
              "</style>\n",
              "<table border=\"1\" class=\"dataframe\">\n",
              "  <thead>\n",
              "    <tr style=\"text-align: right;\">\n",
              "      <th></th>\n",
              "      <th>spam</th>\n",
              "      <th>make</th>\n",
              "      <th>address</th>\n",
              "      <th>all</th>\n",
              "      <th>3d</th>\n",
              "      <th>our</th>\n",
              "      <th>over</th>\n",
              "      <th>remove</th>\n",
              "      <th>internet</th>\n",
              "      <th>order</th>\n",
              "      <th>mail</th>\n",
              "      <th>receive</th>\n",
              "      <th>will</th>\n",
              "      <th>people</th>\n",
              "      <th>report</th>\n",
              "      <th>addresses</th>\n",
              "      <th>free</th>\n",
              "      <th>business</th>\n",
              "      <th>email</th>\n",
              "      <th>you</th>\n",
              "      <th>credit</th>\n",
              "      <th>your</th>\n",
              "      <th>font</th>\n",
              "      <th>000</th>\n",
              "      <th>money</th>\n",
              "      <th>hp</th>\n",
              "      <th>hpl</th>\n",
              "      <th>george</th>\n",
              "      <th>650</th>\n",
              "      <th>lab</th>\n",
              "      <th>labs</th>\n",
              "      <th>telnet</th>\n",
              "      <th>857</th>\n",
              "      <th>data</th>\n",
              "      <th>415</th>\n",
              "      <th>85</th>\n",
              "      <th>technology</th>\n",
              "      <th>1999</th>\n",
              "      <th>parts</th>\n",
              "      <th>pm</th>\n",
              "      <th>direct</th>\n",
              "      <th>cs</th>\n",
              "      <th>meeting</th>\n",
              "      <th>original</th>\n",
              "      <th>project</th>\n",
              "      <th>re</th>\n",
              "      <th>edu</th>\n",
              "      <th>table</th>\n",
              "      <th>conference</th>\n",
              "      <th>ch;</th>\n",
              "      <th>ch(</th>\n",
              "      <th>ch[</th>\n",
              "      <th>ch!</th>\n",
              "      <th>ch$</th>\n",
              "      <th>ch#</th>\n",
              "      <th>crl.ave</th>\n",
              "      <th>crl.long</th>\n",
              "      <th>crl.tot</th>\n",
              "    </tr>\n",
              "  </thead>\n",
              "  <tbody>\n",
              "    <tr>\n",
              "      <th>mean</th>\n",
              "      <td>0.391784</td>\n",
              "      <td>0.105984</td>\n",
              "      <td>0.206603</td>\n",
              "      <td>0.284908</td>\n",
              "      <td>0.06607</td>\n",
              "      <td>0.309537</td>\n",
              "      <td>0.096462</td>\n",
              "      <td>0.11218</td>\n",
              "      <td>0.110368</td>\n",
              "      <td>0.088734</td>\n",
              "      <td>0.243182</td>\n",
              "      <td>0.062624</td>\n",
              "      <td>0.537961</td>\n",
              "      <td>0.096045</td>\n",
              "      <td>0.056395</td>\n",
              "      <td>0.049942</td>\n",
              "      <td>0.265929</td>\n",
              "      <td>0.139779</td>\n",
              "      <td>0.188832</td>\n",
              "      <td>1.691186</td>\n",
              "      <td>0.097235</td>\n",
              "      <td>0.81599</td>\n",
              "      <td>0.120224</td>\n",
              "      <td>0.097961</td>\n",
              "      <td>0.088694</td>\n",
              "      <td>0.528384</td>\n",
              "      <td>0.256327</td>\n",
              "      <td>0.776444</td>\n",
              "      <td>0.128697</td>\n",
              "      <td>0.097863</td>\n",
              "      <td>0.110806</td>\n",
              "      <td>0.064712</td>\n",
              "      <td>0.050377</td>\n",
              "      <td>0.102446</td>\n",
              "      <td>0.050635</td>\n",
              "      <td>0.112554</td>\n",
              "      <td>0.102541</td>\n",
              "      <td>0.135935</td>\n",
              "      <td>0.014834</td>\n",
              "      <td>0.081824</td>\n",
              "      <td>0.06897</td>\n",
              "      <td>0.039641</td>\n",
              "      <td>0.123467</td>\n",
              "      <td>0.045371</td>\n",
              "      <td>0.072471</td>\n",
              "      <td>0.308231</td>\n",
              "      <td>0.182955</td>\n",
              "      <td>0.005607</td>\n",
              "      <td>0.03191</td>\n",
              "      <td>0.036318</td>\n",
              "      <td>0.141634</td>\n",
              "      <td>0.018758</td>\n",
              "      <td>0.277636</td>\n",
              "      <td>0.071341</td>\n",
              "      <td>0.051376</td>\n",
              "      <td>5.300716</td>\n",
              "      <td>52.760883</td>\n",
              "      <td>278.253525</td>\n",
              "    </tr>\n",
              "  </tbody>\n",
              "</table>\n",
              "</div>"
            ],
            "text/plain": [
              "          spam      make   address       all       3d       our      over   remove  internet     order      mail   receive      will    people    report  addresses      free  business     email       you    credit     your      font       000     money        hp       hpl    george       650       lab      labs    telnet       857      data       415        85  technology      1999     parts        pm   direct        cs   meeting  original   project        re       edu     table  conference       ch;       ch(       ch[       ch!       ch$       ch#   crl.ave   crl.long     crl.tot\n",
              "mean  0.391784  0.105984  0.206603  0.284908  0.06607  0.309537  0.096462  0.11218  0.110368  0.088734  0.243182  0.062624  0.537961  0.096045  0.056395   0.049942  0.265929  0.139779  0.188832  1.691186  0.097235  0.81599  0.120224  0.097961  0.088694  0.528384  0.256327  0.776444  0.128697  0.097863  0.110806  0.064712  0.050377  0.102446  0.050635  0.112554    0.102541  0.135935  0.014834  0.081824  0.06897  0.039641  0.123467  0.045371  0.072471  0.308231  0.182955  0.005607     0.03191  0.036318  0.141634  0.018758  0.277636  0.071341  0.051376  5.300716  52.760883  278.253525"
            ]
          },
          "metadata": {
            "tags": []
          },
          "execution_count": 15
        }
      ]
    },
    {
      "cell_type": "code",
      "metadata": {
        "colab": {
          "base_uri": "https://localhost:8080/",
          "height": 97
        },
        "id": "Rj19REWylsPa",
        "outputId": "697142d4-a34b-4af6-8b2f-97f0d6739567"
      },
      "source": [
        "data_train.sample(frac=1., replace=True).mean(axis=0).to_frame('mean').T"
      ],
      "execution_count": null,
      "outputs": [
        {
          "output_type": "execute_result",
          "data": {
            "text/html": [
              "<div>\n",
              "<style scoped>\n",
              "    .dataframe tbody tr th:only-of-type {\n",
              "        vertical-align: middle;\n",
              "    }\n",
              "\n",
              "    .dataframe tbody tr th {\n",
              "        vertical-align: top;\n",
              "    }\n",
              "\n",
              "    .dataframe thead th {\n",
              "        text-align: right;\n",
              "    }\n",
              "</style>\n",
              "<table border=\"1\" class=\"dataframe\">\n",
              "  <thead>\n",
              "    <tr style=\"text-align: right;\">\n",
              "      <th></th>\n",
              "      <th>spam</th>\n",
              "      <th>make</th>\n",
              "      <th>address</th>\n",
              "      <th>all</th>\n",
              "      <th>3d</th>\n",
              "      <th>our</th>\n",
              "      <th>over</th>\n",
              "      <th>remove</th>\n",
              "      <th>internet</th>\n",
              "      <th>order</th>\n",
              "      <th>mail</th>\n",
              "      <th>receive</th>\n",
              "      <th>will</th>\n",
              "      <th>people</th>\n",
              "      <th>report</th>\n",
              "      <th>addresses</th>\n",
              "      <th>free</th>\n",
              "      <th>business</th>\n",
              "      <th>email</th>\n",
              "      <th>you</th>\n",
              "      <th>credit</th>\n",
              "      <th>your</th>\n",
              "      <th>font</th>\n",
              "      <th>000</th>\n",
              "      <th>money</th>\n",
              "      <th>hp</th>\n",
              "      <th>hpl</th>\n",
              "      <th>george</th>\n",
              "      <th>650</th>\n",
              "      <th>lab</th>\n",
              "      <th>labs</th>\n",
              "      <th>telnet</th>\n",
              "      <th>857</th>\n",
              "      <th>data</th>\n",
              "      <th>415</th>\n",
              "      <th>85</th>\n",
              "      <th>technology</th>\n",
              "      <th>1999</th>\n",
              "      <th>parts</th>\n",
              "      <th>pm</th>\n",
              "      <th>direct</th>\n",
              "      <th>cs</th>\n",
              "      <th>meeting</th>\n",
              "      <th>original</th>\n",
              "      <th>project</th>\n",
              "      <th>re</th>\n",
              "      <th>edu</th>\n",
              "      <th>table</th>\n",
              "      <th>conference</th>\n",
              "      <th>ch;</th>\n",
              "      <th>ch(</th>\n",
              "      <th>ch[</th>\n",
              "      <th>ch!</th>\n",
              "      <th>ch$</th>\n",
              "      <th>ch#</th>\n",
              "      <th>crl.ave</th>\n",
              "      <th>crl.long</th>\n",
              "      <th>crl.tot</th>\n",
              "    </tr>\n",
              "  </thead>\n",
              "  <tbody>\n",
              "    <tr>\n",
              "      <th>mean</th>\n",
              "      <td>0.40466</td>\n",
              "      <td>0.104448</td>\n",
              "      <td>0.161355</td>\n",
              "      <td>0.294344</td>\n",
              "      <td>0.067456</td>\n",
              "      <td>0.32092</td>\n",
              "      <td>0.096987</td>\n",
              "      <td>0.105046</td>\n",
              "      <td>0.105944</td>\n",
              "      <td>0.084644</td>\n",
              "      <td>0.228013</td>\n",
              "      <td>0.059608</td>\n",
              "      <td>0.516885</td>\n",
              "      <td>0.102486</td>\n",
              "      <td>0.057069</td>\n",
              "      <td>0.05095</td>\n",
              "      <td>0.263734</td>\n",
              "      <td>0.132005</td>\n",
              "      <td>0.19595</td>\n",
              "      <td>1.675405</td>\n",
              "      <td>0.089513</td>\n",
              "      <td>0.833863</td>\n",
              "      <td>0.135383</td>\n",
              "      <td>0.090399</td>\n",
              "      <td>0.087262</td>\n",
              "      <td>0.541787</td>\n",
              "      <td>0.247376</td>\n",
              "      <td>0.865622</td>\n",
              "      <td>0.126174</td>\n",
              "      <td>0.101257</td>\n",
              "      <td>0.111714</td>\n",
              "      <td>0.073725</td>\n",
              "      <td>0.065074</td>\n",
              "      <td>0.097719</td>\n",
              "      <td>0.065071</td>\n",
              "      <td>0.123697</td>\n",
              "      <td>0.11088</td>\n",
              "      <td>0.13153</td>\n",
              "      <td>0.020055</td>\n",
              "      <td>0.074323</td>\n",
              "      <td>0.081622</td>\n",
              "      <td>0.040028</td>\n",
              "      <td>0.122039</td>\n",
              "      <td>0.045699</td>\n",
              "      <td>0.07134</td>\n",
              "      <td>0.296125</td>\n",
              "      <td>0.212872</td>\n",
              "      <td>0.004546</td>\n",
              "      <td>0.029997</td>\n",
              "      <td>0.035479</td>\n",
              "      <td>0.144666</td>\n",
              "      <td>0.018911</td>\n",
              "      <td>0.281237</td>\n",
              "      <td>0.076012</td>\n",
              "      <td>0.047938</td>\n",
              "      <td>4.76848</td>\n",
              "      <td>51.653587</td>\n",
              "      <td>278.843654</td>\n",
              "    </tr>\n",
              "  </tbody>\n",
              "</table>\n",
              "</div>"
            ],
            "text/plain": [
              "         spam      make   address       all        3d      our      over    remove  internet     order      mail   receive      will    people    report  addresses      free  business    email       you    credit      your      font       000     money        hp       hpl    george       650       lab      labs    telnet       857      data       415        85  technology     1999     parts        pm    direct        cs   meeting  original  project        re       edu     table  conference       ch;       ch(       ch[       ch!       ch$       ch#  crl.ave   crl.long     crl.tot\n",
              "mean  0.40466  0.104448  0.161355  0.294344  0.067456  0.32092  0.096987  0.105046  0.105944  0.084644  0.228013  0.059608  0.516885  0.102486  0.057069    0.05095  0.263734  0.132005  0.19595  1.675405  0.089513  0.833863  0.135383  0.090399  0.087262  0.541787  0.247376  0.865622  0.126174  0.101257  0.111714  0.073725  0.065074  0.097719  0.065071  0.123697     0.11088  0.13153  0.020055  0.074323  0.081622  0.040028  0.122039  0.045699  0.07134  0.296125  0.212872  0.004546    0.029997  0.035479  0.144666  0.018911  0.281237  0.076012  0.047938  4.76848  51.653587  278.843654"
            ]
          },
          "metadata": {
            "tags": []
          },
          "execution_count": 16
        }
      ]
    },
    {
      "cell_type": "markdown",
      "metadata": {
        "id": "hAVnoIqPj2Ip"
      },
      "source": [
        "On constate que l'échantillon est représentatif des données si on se base sur la moyenne. Maintenant, nous ajustons réellement les échantillons."
      ]
    },
    {
      "cell_type": "code",
      "metadata": {
        "id": "1fyQ2qlolsPa"
      },
      "source": [
        "n_trees = 100 # we tried a variety of numbers here\n",
        "choosen_depth = 5"
      ],
      "execution_count": null,
      "outputs": []
    },
    {
      "cell_type": "code",
      "metadata": {
        "id": "3KKmEVuQlsPb"
      },
      "source": [
        "#Creating model\n",
        "np.random.seed(0)\n",
        "bagvot = DecisionTreeClassifier(max_depth=choosen_depth)\n",
        "\n",
        "#Initializing variables\n",
        "predictions_train = np.zeros((data_train.shape[0], n_trees))\n",
        "predictions_test = np.zeros((data_test.shape[0], n_trees))\n",
        "\n",
        "#Conduct bootstraping iterations\n",
        "for i in range(n_trees):\n",
        "    temp = data_train.sample(frac=1, replace=True)\n",
        "    response_variable = temp['spam']\n",
        "    temp = temp.drop(['spam'], axis=1)\n",
        "    \n",
        "    bagvot.fit(temp, response_variable)  \n",
        "    predictions_train[:,i] = bagvot.predict(x_train)   \n",
        "    predictions_test[:,i] = bagvot.predict(x_test)\n",
        "    \n",
        "#Make Predictions Dataframe\n",
        "columns = [\"Bootstrap-Model_\"+str(i+1) for i in range(n_trees)]\n",
        "predictions_train = pd.DataFrame(predictions_train, columns=columns)\n",
        "predictions_test = pd.DataFrame(predictions_test, columns=columns)"
      ],
      "execution_count": null,
      "outputs": []
    },
    {
      "cell_type": "code",
      "metadata": {
        "id": "nhLkXWQJlsPb"
      },
      "source": [
        "## Example Bolean for locating the Non Spam\n",
        "# y == 0\n",
        "## Example Bolean for locating the Spam\n",
        "# y == 1"
      ],
      "execution_count": null,
      "outputs": []
    },
    {
      "cell_type": "code",
      "metadata": {
        "colab": {
          "base_uri": "https://localhost:8080/",
          "height": 458
        },
        "id": "rp5WpkdylsPb",
        "outputId": "f4e695ec-b320-4d17-c79a-9d39b11789dd"
      },
      "source": [
        "num_to_avg = 100\n",
        "fig, axs = plt.subplots(1, 2, figsize=(16, 7))\n",
        "for (ax, label, predictions, y) in [\n",
        "    (axs[0], 'Training Set', predictions_train, y_train.values), \n",
        "    (axs[1], 'Test Set' , predictions_test , y_test.values) ]:\n",
        "    \n",
        "    # Take the average\n",
        "    mean_predictions = predictions.iloc[:,:num_to_avg].mean(axis=1)\n",
        "    \n",
        "    # Plot the Spam\n",
        "    mean_predictions[y == 1].hist(density=True, histtype='step', \n",
        "                                  range=[0,1], label='spam', lw=2, ax=ax)\n",
        "    \n",
        "    # Plot the non Spam\n",
        "    mean_predictions[y == 0].hist(density=True, histtype='step', \n",
        "                                  range=[0,1], label='Not-spam', lw=2, ax=ax)\n",
        "    ax.legend(loc='upper center');\n",
        "    ax.set_xlabel(\"Mean of ensemble predictions (0.5=50 True - 50 False)\")\n",
        "    ax.set_title(label)\n"
      ],
      "execution_count": null,
      "outputs": [
        {
          "output_type": "display_data",
          "data": {
            "image/png": "[encoded data removed]",
            "text/plain": [
              "<Figure size 1152x504 with 2 Axes>"
            ]
          },
          "metadata": {
            "tags": [],
            "needs_background": "light"
          }
        }
      ]
    },
    {
      "cell_type": "markdown",
      "metadata": {
        "id": "eQODXzRJlsPb"
      },
      "source": [
        "Et maintenant, les prédictions finales avec le vote à la majorité."
      ]
    },
    {
      "cell_type": "code",
      "metadata": {
        "colab": {
          "base_uri": "https://localhost:8080/"
        },
        "id": "GpCtt2e7lsPb",
        "outputId": "14c90b61-91b8-4699-a4dc-6b9ec37ba602"
      },
      "source": [
        "#Function to ensemble the prediction of each bagged decision tree model\n",
        "def get_prediction(df, count=-1):\n",
        "    count = df.shape[1] if count==-1 else count\n",
        "    temp = df.iloc[:,0:count]\n",
        "    return np.mean(temp, axis=1)>0.5\n",
        "\n",
        "#Check Accuracy of Spam Detection in Train and Test Set\n",
        "print('Accuracy')\n",
        "print(\"Bagging vote: Accuracy, Training Set \\t : {:.2%}\".format(metrics.accuracy_score(y_train, get_prediction(predictions_train, count=-1))))\n",
        "print(\"Bagging vote: Accuracy, Testing Set \\t : {:.2%}\".format(metrics.accuracy_score(y_test,  get_prediction(predictions_test, count=-1))))\n",
        "print('Precision')\n",
        "print(\"Bagging vote: precision, Training Set \\t : {:.2%}\".format(metrics.precision_score(y_train,get_prediction(predictions_train, count=-1))))\n",
        "print(\"Bagging vote: precision, Testing Set \\t : {:.2%}\".format(metrics.precision_score(y_test,  get_prediction(predictions_test, count=-1))))\n",
        "print('Recall')\n",
        "print(\"Bagging vote: Recall, Training Set \\t : {:.2%}\".format(metrics.recall_score(y_train, get_prediction(predictions_train, count=-1))))\n",
        "print(\"Bagging vote: Recall, Testing Set \\t : {:.2%}\".format(metrics.recall_score(y_test,  get_prediction(predictions_test, count=-1))))"
      ],
      "execution_count": null,
      "outputs": [
        {
          "output_type": "stream",
          "text": [
            "Accuracy\n",
            "Bagging vote: Accuracy, Training Set \t : 94.11%\n",
            "Bagging vote: Accuracy, Testing Set \t : 92.01%\n",
            "Precision\n",
            "Bagging vote: precision, Training Set \t : 96.65%\n",
            "Bagging vote: precision, Testing Set \t : 94.58%\n",
            "Recall\n",
            "Bagging vote: Recall, Training Set \t : 88.03%\n",
            "Bagging vote: Recall, Testing Set \t : 84.86%\n"
          ],
          "name": "stdout"
        }
      ]
    },
    {
      "cell_type": "markdown",
      "metadata": {
        "id": "62eT35HalsPc"
      },
      "source": [
        "Count dans le code ci-dessus peut être utilisé pour définir le nombre de modèles sur lesquels le vote dans le dataframe doit être basé."
      ]
    },
    {
      "cell_type": "code",
      "metadata": {
        "colab": {
          "base_uri": "https://localhost:8080/",
          "height": 295
        },
        "id": "Q6ZbEKgDoUEq",
        "outputId": "8b93e755-9662-46f9-f7c5-aa5984909536"
      },
      "source": [
        "#Get Performance by Class (Lookup Confusion Matrix)\n",
        "model = bagvot\n",
        "nom_model = 'Bagging et vote'\n",
        "confusionmatrix_rocauc(model, nom_model)"
      ],
      "execution_count": null,
      "outputs": [
        {
          "output_type": "display_data",
          "data": {
            "image/png": "[encoded data removed]",
            "text/plain": [
              "<Figure size 720x288 with 2 Axes>"
            ]
          },
          "metadata": {
            "tags": [],
            "needs_background": "light"
          }
        }
      ]
    },
    {
      "cell_type": "markdown",
      "metadata": {
        "id": "IITaqH61lsPc"
      },
      "source": [
        "# Random Forest vs Bagging"
      ]
    },
    {
      "cell_type": "markdown",
      "metadata": {
        "id": "1oQs8YqzlsPc"
      },
      "source": [
        "#### Qu'est-ce qu'une forêt aléatoire ? \n",
        "\n",
        "- **Plusieurs arbres** forment une **forêt**.\n",
        "- **Plusieurs arbres aléatoires** forment une **forêt aléatoire**.\n",
        "\n",
        "\n",
        "La forêt aléatoire est une forme modifiée de bagging qui crée des ensembles d'arbres de décision indépendants. \n",
        "Pour *décorréler les arbres*, nous.. : \n",
        "1. entraînons chaque arbre sur un échantillon bootstrap **aléatoire** distinct de l'ensemble d'entraînement complet (comme pour le bagging). \n",
        "2. pour chaque arbre, à chaque split, nous **sélectionnons aléatoirement un ensemble de 𝐽′ prédicteurs à partir de l'ensemble complet de prédicteurs** (ce qui n'est pas fait dans le bagging).\n",
        "3. Parmi les 𝐽′ prédicteurs, nous sélectionnons le prédicteur optimal et le seuil optimal correspondant pour le split. "
      ]
    },
    {
      "cell_type": "markdown",
      "metadata": {
        "id": "bn5hkKNqlsPc"
      },
      "source": [
        "Maintenant, nous allons adapter une méthode d'ensemble, la technique Random Forest, qui est différente de l'arbre de décision. Utilisons ``n_estimators = predictor_count/2`` et ``max_depth = best_depth``."
      ]
    },
    {
      "cell_type": "code",
      "metadata": {
        "colab": {
          "base_uri": "https://localhost:8080/"
        },
        "id": "3_C3E8T-lsPd",
        "outputId": "52c05b17-8c07-4875-b918-d041c8fccf07"
      },
      "source": [
        "#Fit a Random Forest Model\n",
        "\n",
        "#Training\n",
        "rfc = RandomForestClassifier(n_estimators=50, max_depth=best_depth, random_state=50)\n",
        "rfc.fit(x_train, y_train)\n",
        "\n",
        "#Check Accuracy of Spam Detection in Train and Test Set\n",
        "print('Accuracy')\n",
        "print(\"Random Forest: Accuracy, Training Set \\t : {:.2%}\".format(metrics.accuracy_score(y_train, rfc.predict(x_train))))\n",
        "print(\"Random Forest: Accuracy, Testing Set \\t : {:.2%}\".format(metrics.accuracy_score(y_test,  rfc.predict(x_test))))\n",
        "print('Precision')\n",
        "print(\"Random Forest: precision, Training Set \\t : {:.2%}\".format(metrics.precision_score(y_train, rfc.predict(x_train))))\n",
        "print(\"Random Forest: precision, Testing Set \\t : {:.2%}\".format(metrics.precision_score(y_test,  rfc.predict(x_test))))\n",
        "print('Recall')\n",
        "print(\"Random Forest: Recall, Training Set \\t : {:.2%}\".format(metrics.recall_score(y_train, rfc.predict(x_train))))\n",
        "print(\"Random Forest: Recall, Testing Set \\t : {:.2%}\".format(metrics.recall_score(y_test,  rfc.predict(x_test))))"
      ],
      "execution_count": null,
      "outputs": [
        {
          "output_type": "stream",
          "text": [
            "Accuracy\n",
            "Random Forest: Accuracy, Training Set \t : 94.82%\n",
            "Random Forest: Accuracy, Testing Set \t : 93.28%\n",
            "Precision\n",
            "Random Forest: precision, Training Set \t : 97.27%\n",
            "Random Forest: precision, Testing Set \t : 94.59%\n",
            "Recall\n",
            "Random Forest: Recall, Training Set \t : 89.28%\n",
            "Random Forest: Recall, Testing Set \t : 88.22%\n"
          ],
          "name": "stdout"
        }
      ]
    },
    {
      "cell_type": "code",
      "metadata": {
        "colab": {
          "base_uri": "https://localhost:8080/",
          "height": 295
        },
        "id": "MUjATp0m-RCo",
        "outputId": "b430f201-21fe-419d-c3b4-a677ab720f55"
      },
      "source": [
        "model = rfc\n",
        "nom_model = 'Random Forest'\n",
        "confusionmatrix_rocauc(model, nom_model)"
      ],
      "execution_count": null,
      "outputs": [
        {
          "output_type": "display_data",
          "data": {
            "image/png": "[encoded data removed]",
            "text/plain": [
              "<Figure size 720x288 with 2 Axes>"
            ]
          },
          "metadata": {
            "tags": [],
            "needs_background": "light"
          }
        }
      ]
    },
    {
      "cell_type": "markdown",
      "metadata": {
        "id": "sj_vrzOGlsPd"
      },
      "source": [
        "#### Comparons les performances de nos 3 modèles :"
      ]
    },
    {
      "cell_type": "code",
      "metadata": {
        "colab": {
          "base_uri": "https://localhost:8080/"
        },
        "id": "-Yu8K0JJlsPd",
        "outputId": "09b010c8-4b42-47c9-e607-49cf062d1056"
      },
      "source": [
        "#Check Accuracy of Spam Detection in Train and Test Set\n",
        "print('Simple Decision Trees')\n",
        "print(\"Simple Decision Trees: Accuracy, Testing Set \\t : {:.2%}\".format(metrics.accuracy_score(y_test,  model_tree.predict(x_test))))\n",
        "print(\"Simple Decision Trees: precision, Testing Set \\t : {:.2%}\".format(metrics.precision_score(y_test,  model_tree.predict(x_test))))\n",
        "print(\"Simple Decision Trees: Recall, Testing Set \\t : {:.2%}\".format(metrics.recall_score(y_test,  model_tree.predict(x_test))))\n",
        "print('Bagging vote')\n",
        "print(\"Bagging vote: Accuracy, Testing Set \\t : {:.2%}\".format(metrics.accuracy_score(y_test,  get_prediction(predictions_test, count=-1))))\n",
        "print(\"Bagging vote: precision, Testing Set \\t : {:.2%}\".format(metrics.precision_score(y_test,  get_prediction(predictions_test, count=-1))))\n",
        "print(\"Bagging vote: Recall, Testing Set \\t : {:.2%}\".format(metrics.recall_score(y_test,  get_prediction(predictions_test, count=-1))))\n",
        "print('Random Fores')\n",
        "print(\"Random Forest: Accuracy, Testing Set \\t : {:.2%}\".format(metrics.accuracy_score(y_test,  rfc.predict(x_test))))\n",
        "print(\"Random Forest: precision, Testing Set \\t : {:.2%}\".format(metrics.precision_score(y_test,  rfc.predict(x_test))))\n",
        "print(\"Random Forest: Recall, Testing Set \\t : {:.2%}\".format(metrics.recall_score(y_test,  rfc.predict(x_test))))"
      ],
      "execution_count": null,
      "outputs": [
        {
          "output_type": "stream",
          "text": [
            "Simple Decision Trees\n",
            "Simple Decision Trees: Accuracy, Testing Set \t : 90.81%\n",
            "Simple Decision Trees: precision, Testing Set \t : 90.87%\n",
            "Simple Decision Trees: Recall, Testing Set \t : 85.61%\n",
            "Bagging vote\n",
            "Bagging vote: Accuracy, Testing Set \t : 92.01%\n",
            "Bagging vote: precision, Testing Set \t : 94.58%\n",
            "Bagging vote: Recall, Testing Set \t : 84.86%\n",
            "Random Fores\n",
            "Random Forest: Accuracy, Testing Set \t : 93.28%\n",
            "Random Forest: precision, Testing Set \t : 94.59%\n",
            "Random Forest: Recall, Testing Set \t : 88.22%\n"
          ],
          "name": "stdout"
        }
      ]
    },
    {
      "cell_type": "markdown",
      "metadata": {
        "id": "REyTD_l-lsPd"
      },
      "source": [
        "#### Comme nous l'avons vu ci-dessus, les performances de la méthode Bagging et de la méthode Random Forest sont similaires, alors quelle est la différence ? Les deux méthodes surajoutent-elles les données autant l'une que l'autre ?"
      ]
    },
    {
      "cell_type": "code",
      "metadata": {
        "colab": {
          "base_uri": "https://localhost:8080/"
        },
        "id": "FFasV5CzlsPe",
        "outputId": "03b98b73-0456-4e3b-e417-e44d831f0c59"
      },
      "source": [
        "#Fit a Random Forest Model\n",
        "\n",
        "new_depth = best_depth + 20 \n",
        "\n",
        "#Training\n",
        "rfc_2 = RandomForestClassifier(n_estimators=50, max_depth=new_depth, random_state=50)\n",
        "rfc_2.fit(x_train, y_train)\n",
        "\n",
        "#Check Accuracy of Spam Detection in Train and Test Set\n",
        "print('Accuracy')\n",
        "print(\"Random Forest Deep: Accuracy, Training Set \\t : {:.2%}\".format(metrics.accuracy_score(y_train, rfc_2.predict(x_train))))\n",
        "print(\"Random Forest Deep: Accuracy, Testing Set \\t : {:.2%}\".format(metrics.accuracy_score(y_test,  rfc_2.predict(x_test))))\n",
        "print('Precision')\n",
        "print(\"Random Forest Deep: precision, Training Set \\t : {:.2%}\".format(metrics.precision_score(y_train, rfc_2.predict(x_train))))\n",
        "print(\"Random Forest Deep: precision, Testing Set \\t : {:.2%}\".format(metrics.precision_score(y_test,  rfc_2.predict(x_test))))\n",
        "print('Recall')\n",
        "print(\"Random Forest Deep: Recall, Training Set \\t : {:.2%}\".format(metrics.recall_score(y_train, rfc_2.predict(x_train))))\n",
        "print(\"Random Forest Deep: Recall, Testing Set \\t : {:.2%}\".format(metrics.recall_score(y_test,  rfc_2.predict(x_test))))"
      ],
      "execution_count": null,
      "outputs": [
        {
          "output_type": "stream",
          "text": [
            "Accuracy\n",
            "Random Forest Deep: Accuracy, Training Set \t : 99.85%\n",
            "Random Forest Deep: Accuracy, Testing Set \t : 95.37%\n",
            "Precision\n",
            "Random Forest Deep: precision, Training Set \t : 99.92%\n",
            "Random Forest Deep: precision, Testing Set \t : 96.10%\n",
            "Recall\n",
            "Random Forest Deep: Recall, Training Set \t : 99.69%\n",
            "Random Forest Deep: Recall, Testing Set \t : 92.15%\n"
          ],
          "name": "stdout"
        }
      ]
    },
    {
      "cell_type": "code",
      "metadata": {
        "colab": {
          "base_uri": "https://localhost:8080/",
          "height": 295
        },
        "id": "JVIkowAS-dOS",
        "outputId": "4b4a72bb-aeda-42dd-a5be-1eab6e4004c9"
      },
      "source": [
        "model = rfc_2\n",
        "nom_model = 'Random Forest Deep'\n",
        "confusionmatrix_rocauc(model, nom_model)"
      ],
      "execution_count": null,
      "outputs": [
        {
          "output_type": "display_data",
          "data": {
            "image/png": "[encoded data removed]",
            "text/plain": [
              "<Figure size 720x288 with 2 Axes>"
            ]
          },
          "metadata": {
            "tags": [],
            "needs_background": "light"
          }
        }
      ]
    },
    {
      "cell_type": "markdown",
      "metadata": {
        "id": "UnAr70HLlsPe"
      },
      "source": [
        "#### Metrics comparaison(Test):"
      ]
    },
    {
      "cell_type": "code",
      "metadata": {
        "colab": {
          "base_uri": "https://localhost:8080/"
        },
        "id": "-ByjPZWAlsPe",
        "outputId": "2483dbf5-0d79-44cf-86be-ec4089ac0ad1"
      },
      "source": [
        "#Check Accuracy of Spam Detection in Train and Test Set\n",
        "print('Simple Decision Trees')\n",
        "print(\"Simple Decision Trees: Accuracy, Testing Set \\t : {:.2%}\".format(metrics.accuracy_score(y_test,  model_tree.predict(x_test))))\n",
        "print(\"Simple Decision Trees: precision, Testing Set \\t : {:.2%}\".format(metrics.precision_score(y_test,  model_tree.predict(x_test))))\n",
        "print(\"Simple Decision Trees: Recall, Testing Set \\t : {:.2%}\".format(metrics.recall_score(y_test,  model_tree.predict(x_test))))\n",
        "print('Bagging vote')\n",
        "print(\"Bagging vote: Accuracy, Testing Set \\t : {:.2%}\".format(metrics.accuracy_score(y_test,  get_prediction(predictions_test, count=-1))))\n",
        "print(\"Bagging vote: precision, Testing Set \\t : {:.2%}\".format(metrics.precision_score(y_test,  get_prediction(predictions_test, count=-1))))\n",
        "print(\"Bagging vote: Recall, Testing Set \\t : {:.2%}\".format(metrics.recall_score(y_test,  get_prediction(predictions_test, count=-1))))\n",
        "print('Random Forest')\n",
        "print(\"Random Forest: Accuracy, Testing Set \\t : {:.2%}\".format(metrics.accuracy_score(y_test,  rfc.predict(x_test))))\n",
        "print(\"Random Forest: precision, Testing Set \\t : {:.2%}\".format(metrics.precision_score(y_test,  rfc.predict(x_test))))\n",
        "print(\"Random Forest: Recall, Testing Set \\t : {:.2%}\".format(metrics.recall_score(y_test,  rfc.predict(x_test))))\n",
        "print('Random Forest Deep')\n",
        "print(\"Random Forest Deep: Accuracy, Testing Set \\t : {:.2%}\".format(metrics.accuracy_score(y_test,  rfc_2.predict(x_test))))\n",
        "print(\"Random Forest Deep: precision, Testing Set \\t : {:.2%}\".format(metrics.precision_score(y_test,  rfc_2.predict(x_test))))\n",
        "print(\"Random Forest Deep: Recall, Testing Set \\t : {:.2%}\".format(metrics.recall_score(y_test,  rfc_2.predict(x_test))))"
      ],
      "execution_count": null,
      "outputs": [
        {
          "output_type": "stream",
          "text": [
            "Simple Decision Trees\n",
            "Simple Decision Trees: Accuracy, Testing Set \t : 90.81%\n",
            "Simple Decision Trees: precision, Testing Set \t : 90.87%\n",
            "Simple Decision Trees: Recall, Testing Set \t : 85.61%\n",
            "Bagging vote\n",
            "Bagging vote: Accuracy, Testing Set \t : 92.01%\n",
            "Bagging vote: precision, Testing Set \t : 94.58%\n",
            "Bagging vote: Recall, Testing Set \t : 84.86%\n",
            "Random Forest\n",
            "Random Forest: Accuracy, Testing Set \t : 93.28%\n",
            "Random Forest: precision, Testing Set \t : 94.59%\n",
            "Random Forest: Recall, Testing Set \t : 88.22%\n",
            "Random Forest Deep\n",
            "Random Forest Deep: Accuracy, Testing Set \t : 95.37%\n",
            "Random Forest Deep: precision, Testing Set \t : 96.10%\n",
            "Random Forest Deep: Recall, Testing Set \t : 92.15%\n"
          ],
          "name": "stdout"
        }
      ]
    },
    {
      "cell_type": "markdown",
      "metadata": {
        "id": "TAwizhCmlsPf"
      },
      "source": [
        "#### Importance des caractéristiques\n",
        "Random Forest donne les valeurs ci-dessus en tant que ``feature_importance`` où il normalise l'impact d'un prédicteur au nombre de fois qu'il est utile et donne ainsi une importance supérieure gratuitement. Explorez les attributs de l'objet du modèle Random Forest pour trouver les meilleurs nœuds."
      ]
    },
    {
      "cell_type": "code",
      "metadata": {
        "colab": {
          "base_uri": "https://localhost:8080/",
          "height": 730
        },
        "id": "ZhllqYvXlsPf",
        "outputId": "8ca3f0e8-9903-433b-a889-60ccad2abc68"
      },
      "source": [
        "#Top Features\n",
        "feature_importance = rfc_2.feature_importances_\n",
        "feature_importance = 100.0 * (feature_importance / feature_importance.max())\n",
        "sorted_idx = np.argsort(feature_importance)\n",
        "pos = np.arange(sorted_idx.shape[0]) + .5\n",
        "\n",
        "#Plot\n",
        "plt.figure(figsize=(10,12))\n",
        "plt.barh(pos, feature_importance[sorted_idx], align='center')\n",
        "plt.yticks(pos, x_train.columns[sorted_idx])\n",
        "plt.xlabel('Relative Importance')\n",
        "plt.title('Variable Importance')\n",
        "plt.show()"
      ],
      "execution_count": null,
      "outputs": [
        {
          "output_type": "display_data",
          "data": {
            "image/png": "[encoded data removed]",
            "text/plain": [
              "<Figure size 720x864 with 1 Axes>"
            ]
          },
          "metadata": {
            "tags": [],
            "needs_background": "light"
          }
        }
      ]
    },
    {
      "cell_type": "markdown",
      "metadata": {
        "id": "dNYCknmy9N3h"
      },
      "source": [
        "____________\n",
        "\n",
        "## Les limites de la forêt aléatoire\n",
        "\n",
        "#### La forêt aléatoire peut overfitter\n",
        "- L'augmentation du nombre d'arbres dans la RF n'augmente généralement pas le risque d'overfitting, MAIS si le nombre d'arbres dans l'ensemble est trop important, les arbres de l'ensemble peuvent devenir corrélés, et donc augmenter la variance.\n",
        "\n",
        "#### Le Random Forest peut échouer\n",
        "\n",
        "- **Quand nous avons beaucoup de prédicteurs qui sont complètement indépendants de la réponse et un prédicteur qui a une influence écrasante**.\n",
        "\n",
        "____________"
      ]
    },
    {
      "cell_type": "markdown",
      "metadata": {
        "id": "q862Fj_R9hQn"
      },
      "source": [
        "## Bagging et random forest vs. Boosting\n",
        "\n",
        "- **Bagging et Random Forest:**\n",
        "  - les arbres complexes et profonds **overfittent**\n",
        "  - donc **réduisons la variance sur les arbres complexes**.\n",
        "- **Boosting:** \n",
        "  - arbres simples et peu profonds **underfittent** \n",
        "  - donc **réalisons une réduction de biais sur les arbres simples** !\n",
        "  - rendre les arbres simples plus précis !\n",
        "  \n",
        "Le **boosting** tente d'améliorer la flexibilité prédictive des modèles simples.\n",
        " - Il entraîne un **grand nombre d'apprenants \"faibles\" en séquence**.\n",
        " - Un apprenant faible est un modèle contraint (limite la profondeur maximale de chaque arbre de décision).\n",
        " - Chaque modèle de la séquence se concentre sur **l'apprentissage à partir des erreurs** de celui qui le précède.\n",
        " - En pondérant plus fortement les erreurs dans l'arbre suivant, notre arbre suivant apprendra de ces erreurs.\n",
        " - Une combinaison de tous les apprenants faibles en un seul apprenant fort = **un arbre boosté**."
      ]
    },
    {
      "cell_type": "markdown",
      "metadata": {
        "id": "2OZj0nNt-d_4"
      },
      "source": [
        "## Utilisez la méthode Adaboost pour visualiser le compromis Bias-Variance."
      ]
    },
    {
      "cell_type": "code",
      "metadata": {
        "colab": {
          "base_uri": "https://localhost:8080/"
        },
        "id": "uDR-iY2Z9IiV",
        "outputId": "2205af53-1af2-40d9-d0b6-2313940f8b0b"
      },
      "source": [
        "#Training\n",
        "adaboost = AdaBoostClassifier(base_estimator= DecisionTreeClassifier(max_depth=3), \n",
        "                           n_estimators=500, \n",
        "                           learning_rate=0.05, random_state=42)\n",
        "adaboost.fit(x_train, y_train)\n",
        "\n",
        "#Check Accuracy of Spam Detection in Train and Test Set\n",
        "print('Accuracy')\n",
        "print(\"Adaboost: Accuracy, Training Set \\t : {:.2%}\".format(metrics.accuracy_score(y_train, adaboost.predict(x_train))))\n",
        "print(\"Adaboost: Accuracy, Testing Set \\t : {:.2%}\".format(metrics.accuracy_score(y_test,  adaboost.predict(x_test))))\n",
        "print('Precision')\n",
        "print(\"Adaboost: precision, Training Set \\t : {:.2%}\".format(metrics.precision_score(y_train, adaboost.predict(x_train))))\n",
        "print(\"Adaboost: precision, Testing Set \\t : {:.2%}\".format(metrics.precision_score(y_test,  adaboost.predict(x_test))))\n",
        "print('Recall')\n",
        "print(\"Adaboost: Recall, Training Set \\t : {:.2%}\".format(metrics.recall_score(y_train, adaboost.predict(x_train))))\n",
        "print(\"Adaboost: Recall, Testing Set \\t : {:.2%}\".format(metrics.recall_score(y_test,  adaboost.predict(x_test))))"
      ],
      "execution_count": null,
      "outputs": [
        {
          "output_type": "stream",
          "text": [
            "Accuracy\n",
            "Adaboost: Accuracy, Training Set \t : 99.72%\n",
            "Adaboost: Accuracy, Testing Set \t : 95.07%\n",
            "Precision\n",
            "Adaboost: precision, Training Set \t : 99.84%\n",
            "Adaboost: precision, Testing Set \t : 95.36%\n",
            "Recall\n",
            "Adaboost: Recall, Training Set \t : 99.45%\n",
            "Adaboost: Recall, Testing Set \t : 92.15%\n"
          ],
          "name": "stdout"
        }
      ]
    },
    {
      "cell_type": "code",
      "metadata": {
        "colab": {
          "base_uri": "https://localhost:8080/",
          "height": 458
        },
        "id": "tK7x4C3e-rHw",
        "outputId": "860334ab-eab0-4bee-c508-462d2afb7b85"
      },
      "source": [
        "#Plot Iteration based score\n",
        "train_scores = list(adaboost.staged_score(x_train,y_train))\n",
        "test_scores = list(adaboost.staged_score(x_test, y_test))\n",
        "\n",
        "plt.figure(figsize=(10,7))\n",
        "plt.plot(train_scores,label='train')\n",
        "plt.plot(test_scores,label='test')\n",
        "plt.xlabel('Iteration')\n",
        "plt.ylabel('Accuracy')\n",
        "plt.title(\"Variation of Accuracy with Iterations - ADA Boost\")\n",
        "plt.legend();"
      ],
      "execution_count": null,
      "outputs": [
        {
          "output_type": "display_data",
          "data": {
            "image/png": "[encoded data removed]",
            "text/plain": [
              "<Figure size 720x504 with 1 Axes>"
            ]
          },
          "metadata": {
            "tags": [],
            "needs_background": "light"
          }
        }
      ]
    },
    {
      "cell_type": "code",
      "metadata": {
        "colab": {
          "base_uri": "https://localhost:8080/"
        },
        "id": "_UgzxFrA_XSn",
        "outputId": "41e23d30-f492-42b9-f18e-e5ffb053b664"
      },
      "source": [
        "#Training\n",
        "adaboost = AdaBoostClassifier(base_estimator= DecisionTreeClassifier(max_depth=3), \n",
        "                           n_estimators=120, \n",
        "                           learning_rate=0.05, random_state=42)\n",
        "adaboost.fit(x_train, y_train)\n",
        "\n",
        "#Check Accuracy of Spam Detection in Train and Test Set\n",
        "print('Accuracy')\n",
        "print(\"Adaboost: Accuracy, Training Set \\t : {:.2%}\".format(metrics.accuracy_score(y_train, adaboost.predict(x_train))))\n",
        "print(\"Adaboost: Accuracy, Testing Set \\t : {:.2%}\".format(metrics.accuracy_score(y_test,  adaboost.predict(x_test))))\n",
        "print('Precision')\n",
        "print(\"Adaboost: precision, Training Set \\t : {:.2%}\".format(metrics.precision_score(y_train, adaboost.predict(x_train))))\n",
        "print(\"Adaboost: precision, Testing Set \\t : {:.2%}\".format(metrics.precision_score(y_test,  adaboost.predict(x_test))))\n",
        "print('Recall')\n",
        "print(\"Adaboost: Recall, Training Set \\t : {:.2%}\".format(metrics.recall_score(y_train, adaboost.predict(x_train))))\n",
        "print(\"Adaboost: Recall, Testing Set \\t : {:.2%}\".format(metrics.recall_score(y_test,  adaboost.predict(x_test))))"
      ],
      "execution_count": null,
      "outputs": [
        {
          "output_type": "stream",
          "text": [
            "Accuracy\n",
            "Adaboost: Accuracy, Training Set \t : 97.06%\n",
            "Adaboost: Accuracy, Testing Set \t : 94.62%\n",
            "Precision\n",
            "Adaboost: precision, Training Set \t : 97.28%\n",
            "Adaboost: precision, Testing Set \t : 95.13%\n",
            "Recall\n",
            "Adaboost: Recall, Training Set \t : 95.15%\n",
            "Adaboost: Recall, Testing Set \t : 91.21%\n"
          ],
          "name": "stdout"
        }
      ]
    },
    {
      "cell_type": "code",
      "metadata": {
        "colab": {
          "base_uri": "https://localhost:8080/",
          "height": 295
        },
        "id": "A0LYJexj_tuh",
        "outputId": "5a46b663-f333-4a37-e126-0cae6aa75a55"
      },
      "source": [
        "model = adaboost\n",
        "nom_model = 'Adaboost'\n",
        "confusionmatrix_rocauc(model, nom_model)"
      ],
      "execution_count": null,
      "outputs": [
        {
          "output_type": "display_data",
          "data": {
            "image/png": "[encoded data removed]",
            "text/plain": [
              "<Figure size 720x288 with 2 Axes>"
            ]
          },
          "metadata": {
            "tags": [],
            "needs_background": "light"
          }
        }
      ]
    },
    {
      "cell_type": "code",
      "metadata": {
        "colab": {
          "base_uri": "https://localhost:8080/"
        },
        "id": "TKCy8iVQ_nMB",
        "outputId": "d2ee380b-0ef6-4ce7-c193-17fa552dd3bb"
      },
      "source": [
        "#Check Accuracy of Spam Detection in Train and Test Set\n",
        "print('Simple Decision Trees')\n",
        "print(\"Simple Decision Trees: Accuracy, Testing Set \\t : {:.2%}\".format(metrics.accuracy_score(y_test,  model_tree.predict(x_test))))\n",
        "print(\"Simple Decision Trees: precision, Testing Set \\t : {:.2%}\".format(metrics.precision_score(y_test,  model_tree.predict(x_test))))\n",
        "print(\"Simple Decision Trees: Recall, Testing Set \\t : {:.2%}\".format(metrics.recall_score(y_test,  model_tree.predict(x_test))))\n",
        "print('Bagging vote')\n",
        "print(\"Bagging vote: Accuracy, Testing Set \\t : {:.2%}\".format(metrics.accuracy_score(y_test,  get_prediction(predictions_test, count=-1))))\n",
        "print(\"Bagging vote: precision, Testing Set \\t : {:.2%}\".format(metrics.precision_score(y_test,  get_prediction(predictions_test, count=-1))))\n",
        "print(\"Bagging vote: Recall, Testing Set \\t : {:.2%}\".format(metrics.recall_score(y_test,  get_prediction(predictions_test, count=-1))))\n",
        "print('Random Forest Deep')\n",
        "print(\"Random Forest Deep: Accuracy, Testing Set \\t : {:.2%}\".format(metrics.accuracy_score(y_test,  rfc_2.predict(x_test))))\n",
        "print(\"Random Forest Deep: precision, Testing Set \\t : {:.2%}\".format(metrics.precision_score(y_test,  rfc_2.predict(x_test))))\n",
        "print(\"Random Forest Deep: Recall, Testing Set \\t : {:.2%}\".format(metrics.recall_score(y_test,  rfc_2.predict(x_test))))\n",
        "print('AdaBoost')\n",
        "print(\"AdaBoost: Accuracy, Testing Set \\t : {:.2%}\".format(metrics.accuracy_score(y_test,  adaboost.predict(x_test))))\n",
        "print(\"AdaBoost: precision, Testing Set \\t : {:.2%}\".format(metrics.precision_score(y_test,  adaboost.predict(x_test))))\n",
        "print(\"AdaBoost: Recall, Testing Set \\t : {:.2%}\".format(metrics.recall_score(y_test,  adaboost.predict(x_test))))"
      ],
      "execution_count": null,
      "outputs": [
        {
          "output_type": "stream",
          "text": [
            "Simple Decision Trees\n",
            "Simple Decision Trees: Accuracy, Testing Set \t : 90.81%\n",
            "Simple Decision Trees: precision, Testing Set \t : 90.87%\n",
            "Simple Decision Trees: Recall, Testing Set \t : 85.61%\n",
            "Bagging vote\n",
            "Bagging vote: Accuracy, Testing Set \t : 92.01%\n",
            "Bagging vote: precision, Testing Set \t : 94.58%\n",
            "Bagging vote: Recall, Testing Set \t : 84.86%\n",
            "Random Forest Deep\n",
            "Random Forest Deep: Accuracy, Testing Set \t : 95.37%\n",
            "Random Forest Deep: precision, Testing Set \t : 96.10%\n",
            "Random Forest Deep: Recall, Testing Set \t : 92.15%\n",
            "AdaBoost\n",
            "AdaBoost: Accuracy, Testing Set \t : 94.62%\n",
            "AdaBoost: precision, Testing Set \t : 95.13%\n",
            "AdaBoost: Recall, Testing Set \t : 91.21%\n"
          ],
          "name": "stdout"
        }
      ]
    },
    {
      "cell_type": "markdown",
      "metadata": {
        "id": "ttkCM2LS-x5q"
      },
      "source": [
        "Random Forest et AdaBoost semblent être plus performant que les arbres de décision simples et le Bagging. De plus ils ont une performance similaire en termes de précision sur l'ensemble de données test."
      ]
    },
    {
      "cell_type": "markdown",
      "metadata": {
        "id": "gdhafwFn-89-"
      },
      "source": [
        "#### Et si nous modifions la profondeur de nos arbres AdaBoost ?"
      ]
    },
    {
      "cell_type": "code",
      "metadata": {
        "colab": {
          "base_uri": "https://localhost:8080/"
        },
        "id": "encx0wnd-z4w",
        "outputId": "3ad064f7-ef14-4999-caf3-b67aa9868459"
      },
      "source": [
        "! pip install tqdm\n",
        "from tqdm import tqdm\n",
        "import time"
      ],
      "execution_count": null,
      "outputs": [
        {
          "output_type": "stream",
          "text": [
            "Requirement already satisfied: tqdm in /usr/local/lib/python3.7/dist-packages (4.41.1)\n"
          ],
          "name": "stdout"
        }
      ]
    },
    {
      "cell_type": "code",
      "metadata": {
        "colab": {
          "base_uri": "https://localhost:8080/"
        },
        "id": "d7FEqChv-_b1",
        "outputId": "fe360464-f122-4d71-e066-29db13fb0f54"
      },
      "source": [
        "# Start Timer\n",
        "start = time.time()\n",
        "\n",
        "\n",
        "#Find Optimal Depth of trees for Boosting\n",
        "score_train, score_test, depth_start, depth_end = {}, {}, 2, 30\n",
        "for i in tqdm(range(depth_start, depth_end, 2)):\n",
        "    ada = AdaBoostClassifier(\n",
        "        base_estimator=DecisionTreeClassifier(max_depth=i),\n",
        "        n_estimators=200, learning_rate=0.05, random_state=42)\n",
        "    ada.fit(x_train, y_train)\n",
        "    score_train[i] = accuracy_score(y_train, ada.predict(x_train))\n",
        "    score_test[i] = accuracy_score(y_test, ada.predict(x_test))\n",
        "    \n",
        "# Stop Timer\n",
        "end = time.time()\n",
        "elapsed_adaboost = end - start"
      ],
      "execution_count": null,
      "outputs": [
        {
          "output_type": "stream",
          "text": [
            "100%|██████████| 14/14 [01:44<00:00,  7.47s/it]\n"
          ],
          "name": "stderr"
        }
      ]
    },
    {
      "cell_type": "markdown",
      "metadata": {
        "id": "EwKuQmRy_h87"
      },
      "source": [
        "La complexité d'Adaboost dépend à la fois du nombre d'estimateurs et de l'estimateur de base. \n",
        "- Au début, lorsque la complexité de notre modèle augmente (profondeur 2-3), nous observons d'abord une petite augmentation de la précision.\n",
        "- Mais au fur et à mesure que nous nous déplaçons vers la droite du graphique (arbres **plus profonds**), notre modèle **va overfitter les données**.\n"
      ]
    },
    {
      "cell_type": "code",
      "metadata": {
        "colab": {
          "base_uri": "https://localhost:8080/",
          "height": 458
        },
        "id": "CG9LTpZk_Rdn",
        "outputId": "3854f9fd-6bbc-48f6-8de2-18b44744390a"
      },
      "source": [
        "#Plot\n",
        "lists1 = sorted(score_train.items())\n",
        "lists2 = sorted(score_test.items())\n",
        "x1, y1 = zip(*lists1) \n",
        "x2, y2 = zip(*lists2) \n",
        "plt.figure(figsize=(10,7))\n",
        "plt.ylabel(\"Accuracy\")\n",
        "plt.xlabel(\"Depth\")\n",
        "plt.title('Variation of Accuracy with Depth - ADA Boost Classifier')\n",
        "plt.plot(x1, y1, 'b-', label='Train')\n",
        "plt.plot(x2, y2, 'g-', label='Test')\n",
        "plt.legend()\n",
        "plt.show()"
      ],
      "execution_count": null,
      "outputs": [
        {
          "output_type": "display_data",
          "data": {
            "image/png": "[encoded data removed]",
            "text/plain": [
              "<Figure size 720x504 with 1 Axes>"
            ]
          },
          "metadata": {
            "tags": [],
            "needs_background": "light"
          }
        }
      ]
    },
    {
      "cell_type": "markdown",
      "metadata": {
        "id": "ia_lI0BP_xVx"
      },
      "source": [
        "## Gradient Boosting et XGBoost\n"
      ]
    },
    {
      "cell_type": "markdown",
      "metadata": {
        "id": "A8TwFJak_1oJ"
      },
      "source": [
        "### Gradient Boosting ?\n",
        "\n",
        "Pour améliorer ses prédictions, **le boosting de gradient examine la différence entre son approximation actuelle, et le vecteur cible correct connu, qui est appelé le résidu**.\n",
        "\n",
        "Théorie :\n",
        "\n",
        "- On peut supposer qu'il existe un modèle imparfait $F_{m}$. \n",
        "- L'algorithme de gradient boosting améliore le modèle $F_{m}$ en construisant un nouveau modèle qui ajoute un estimateur $h$ pour fournir un meilleur modèle : \n",
        "$$F_{m+1}(x)=F_{m}(x)+h(x)$$\n",
        "\n",
        "- Pour trouver $h$, la solution de boosting de gradient commence par l'observation qu'un **h** parfait impliquerait\n",
        "\n",
        "$$F_{m+1}(x)=F_{m}(x)+h(x)=y$$\n",
        "\n",
        "- ou, de manière équivalente, en résolvant pour h,\n",
        "\n",
        "$$h(x)=y-F_{m}(x)$$.\n",
        "\n",
        "- Par conséquent, le gradient boosting ajustera h au résidu $y-F_{m}(x)$$."
      ]
    },
    {
      "cell_type": "markdown",
      "metadata": {
        "id": "7cLCtEyhA6d2"
      },
      "source": [
        "\n",
        "----------\n",
        "\n",
        "### XGBoost \n",
        " - Basé sur le Gradient Boosting\n",
        " - XGBoost = **eXtreme Gradient Boosting** ; fait référence à l'objectif technique de repousser la limite des ressources de calcul pour l'algorithme d'arbre boosté.\n",
        " \n",
        "**Accuracy:**\n",
        " - XGBoost utilise cependant une **formalisation de modèle plus régularisée pour contrôler l'overfitting** (=meilleure performance) par une régularisation L1 et L2.\n",
        " - Méthodes d'élagage de l'arbre : un arbre plus \"superficiel\" empêchera également l'overfitting.\n",
        " - Techniques de convergence améliorées (comme l'arrêt précoce lorsqu'aucune amélioration n'est apportée pendant un nombre X d'itérations).\n",
        " - Validation croisée intégrée\n",
        " \n",
        "**Vitesse de calcul**\n",
        " - Structures de données spéciales de type vecteur et matrice pour des résultats plus rapides.\n",
        " - Construction d'arbre parallélisée : utilisation de tous les cœurs de notre CPU pendant l'apprentissage.\n",
        " - Calcul distribué : pour l'entraînement de très grands modèles en utilisant un cluster de machines.\n",
        " - Optimisation du cache des structures de données et de l'algorithme : pour utiliser au mieux le matériel.\n",
        "\n",
        "**Arbres boostés en parallèle**\n",
        "- Xgboost n'exécute pas plusieurs arbres en parallèle, nous avons besoin de prédictions après chaque arbre pour mettre à jour les gradients.\n",
        "- Il effectue plutôt la parallélisation DANS un seul arbre en utilisant openMP pour créer des branches indépendamment."
      ]
    },
    {
      "cell_type": "markdown",
      "metadata": {
        "id": "BsEFy53aBhX0"
      },
      "source": [
        "## XGBoost"
      ]
    },
    {
      "cell_type": "code",
      "metadata": {
        "id": "8N4_6dyq_hQR"
      },
      "source": [
        "# Let's install XGBoost\n",
        "! pip install xgboost\n",
        "! pip install optuna"
      ],
      "execution_count": null,
      "outputs": []
    },
    {
      "cell_type": "code",
      "metadata": {
        "id": "LsNqGMrkHGe8"
      },
      "source": [
        "import xgboost as xgb\n",
        "import optuna"
      ],
      "execution_count": null,
      "outputs": []
    },
    {
      "cell_type": "code",
      "metadata": {
        "id": "zzB14MvFKsnX"
      },
      "source": [
        "def objective(trial): \n",
        "\n",
        "\n",
        "  xgb_train = xgb.DMatrix(x_train.values, ((y_train)*1).values)\n",
        "  xgb_test = xgb.DMatrix(x_test.values,  ((y_test)*1).values)   \n",
        "  params = {\n",
        "          'max_leaves': trial.suggest_int('max_leaves', 32, 512),\n",
        "          'max_bin': trial.suggest_int('max_bin', 50, 900),\n",
        "          'objective': 'multi:softprob',\n",
        "          'num_class': 2,\n",
        "          'eval_metric': 'mlogloss',\n",
        "          'max_depth': trial.suggest_int('max_depth', 4, 16),\n",
        "          'min_child_weight': trial.suggest_int('min_child_weight', 1, 16),\n",
        "          'subsample': trial.suggest_uniform('subsample', 0.6, 1.0),\n",
        "          'colsample_bytree': trial.suggest_uniform('colsample_bytree', 0.6, 1.0),\n",
        "          'gamma':trial.suggest_uniform('gamma', 0.0, 1.0),\n",
        "          'apha': trial.suggest_loguniform('apha', 1e-8, 1.0),\n",
        "          'lambda': trial.suggest_loguniform('lambda', 1e-8, 1.0),\n",
        "          'learning_rate': trial.suggest_uniform('learning_rate', 1e-3, 1.0),\n",
        "          'seed': 42\n",
        "          }\n",
        "\n",
        "  model = xgb.train(params, xgb_train, evals=[(xgb_test, 'mlogloss')], verbose_eval=200, num_boost_round=1300,early_stopping_rounds=5)\n",
        "  val_pred = model.predict(xgb.DMatrix(x_test.values))\n",
        "  accuracy = accuracy_score(((y_test)*1).values, (val_pred).argmax(axis=1))\n",
        "  print(f\"accuracy = {accuracy}\")\n",
        "  return accuracy"
      ],
      "execution_count": null,
      "outputs": []
    },
    {
      "cell_type": "code",
      "metadata": {
        "id": "aBXBvf-jO8q0"
      },
      "source": [
        "# Bayesian optimization\n",
        "study = optuna.create_study(direction='maximize')\n",
        "study.optimize(objective, n_trials=50)"
      ],
      "execution_count": null,
      "outputs": []
    },
    {
      "cell_type": "code",
      "metadata": {
        "colab": {
          "base_uri": "https://localhost:8080/"
        },
        "id": "4BcmVm4gZaGb",
        "outputId": "cf2c6588-3273-4bec-9cca-7da67a17d5f0"
      },
      "source": [
        "print('Number of finished trials: {}'.format(len(study.trials)))\n",
        "\n",
        "print('Best trial:')\n",
        "trial = study.best_trial\n",
        "\n",
        "print('  Value: {}'.format(trial.value))\n",
        "\n",
        "print('  Params: ')\n",
        "for key, value in trial.params.items():\n",
        "    print('    {}: {}'.format(key, value))"
      ],
      "execution_count": null,
      "outputs": [
        {
          "output_type": "stream",
          "text": [
            "Number of finished trials: 50\n",
            "Best trial:\n",
            "  Value: 0.9566840926064227\n",
            "  Params: \n",
            "    max_leaves: 196\n",
            "    max_bin: 612\n",
            "    max_depth: 11\n",
            "    min_child_weight: 5\n",
            "    subsample: 0.9605037811738737\n",
            "    colsample_bytree: 0.6815730664486106\n",
            "    gamma: 0.4431430683145744\n",
            "    apha: 8.015232565608437e-08\n",
            "    lambda: 0.00019534903731830634\n",
            "    learning_rate: 0.6940666857354592\n"
          ],
          "name": "stdout"
        }
      ]
    },
    {
      "cell_type": "code",
      "metadata": {
        "colab": {
          "base_uri": "https://localhost:8080/",
          "height": 542
        },
        "id": "S3shmTP1bM4P",
        "outputId": "68ccd031-2eca-4d10-be9e-6ae7d15316e7"
      },
      "source": [
        "from optuna.visualization import plot_optimization_history\n",
        "plot_optimization_history(study)"
      ],
      "execution_count": null,
      "outputs": [
        {
          "output_type": "display_data",
          "data": {
            "text/html": [
              "<html>\n",
              "<head><meta charset=\"utf-8\" /></head>\n",
              "<body>\n",
              "    <div>\n",
              "            <script src=\"https://cdnjs.cloudflare.com/ajax/libs/mathjax/2.7.5/MathJax.js?config=TeX-AMS-MML_SVG\"></script><script type=\"text/javascript\">if (window.MathJax) {MathJax.Hub.Config({SVG: {font: \"STIX-Web\"}});}</script>\n",
              "                <script type=\"text/javascript\">window.PlotlyConfig = {MathJaxConfig: 'local'};</script>\n",
              "        <script src=\"https://cdn.plot.ly/plotly-latest.min.js\"></script>    \n",
              "            <div id=\"fac6fd3c-57c2-4ac4-988f-616a3e74df02\" class=\"plotly-graph-div\" style=\"height:525px; width:100%;\"></div>\n",
              "            <script type=\"text/javascript\">\n",
              "                \n",
              "                    window.PLOTLYENV=window.PLOTLYENV || {};\n",
              "                    \n",
              "                if (document.getElementById(\"fac6fd3c-57c2-4ac4-988f-616a3e74df02\")) {\n",
              "                    Plotly.newPlot(\n",
              "                        'fac6fd3c-57c2-4ac4-988f-616a3e74df02',\n",
              "                        [{\"mode\": \"markers\", \"name\": \"Objective Value\", \"type\": \"scatter\", \"x\": [0, 1, 2, 3, 4, 5, 6, 7, 8, 9, 10, 11, 12, 13, 14, 15, 16, 17, 18, 19, 20, 21, 22, 23, 24, 25, 26, 27, 28, 29, 30, 31, 32, 33, 34, 35, 36, 37, 38, 39, 40, 41, 42, 43, 44, 45, 46, 47, 48, 49], \"y\": [0.9499626587005228, 0.9529499626587006, 0.9477221807318895, 0.9469753547423451, 0.9477221807318895, 0.9514563106796117, 0.9499626587005228, 0.9454817027632562, 0.9484690067214339, 0.9477221807318895, 0.9492158327109783, 0.9492158327109783, 0.9507094846900672, 0.9522031366691561, 0.9499626587005228, 0.9469753547423451, 0.9454817027632562, 0.9507094846900672, 0.9499626587005228, 0.9514563106796117, 0.9522031366691561, 0.9507094846900672, 0.9529499626587006, 0.9544436146377894, 0.9507094846900672, 0.9514563106796117, 0.9544436146377894, 0.9492158327109783, 0.9492158327109783, 0.9492158327109783, 0.9499626587005228, 0.9477221807318895, 0.9514563106796117, 0.9529499626587006, 0.9544436146377894, 0.9544436146377894, 0.9536967886482449, 0.9566840926064227, 0.9522031366691561, 0.9477221807318895, 0.9432412247946228, 0.9462285287528006, 0.9514563106796117, 0.9536967886482449, 0.9484690067214339, 0.9544436146377894, 0.9492158327109783, 0.9514563106796117, 0.9522031366691561, 0.9507094846900672]}, {\"name\": \"Best Value\", \"type\": \"scatter\", \"x\": [0, 1, 2, 3, 4, 5, 6, 7, 8, 9, 10, 11, 12, 13, 14, 15, 16, 17, 18, 19, 20, 21, 22, 23, 24, 25, 26, 27, 28, 29, 30, 31, 32, 33, 34, 35, 36, 37, 38, 39, 40, 41, 42, 43, 44, 45, 46, 47, 48, 49], \"y\": [0.9499626587005228, 0.9529499626587006, 0.9529499626587006, 0.9529499626587006, 0.9529499626587006, 0.9529499626587006, 0.9529499626587006, 0.9529499626587006, 0.9529499626587006, 0.9529499626587006, 0.9529499626587006, 0.9529499626587006, 0.9529499626587006, 0.9529499626587006, 0.9529499626587006, 0.9529499626587006, 0.9529499626587006, 0.9529499626587006, 0.9529499626587006, 0.9529499626587006, 0.9529499626587006, 0.9529499626587006, 0.9529499626587006, 0.9544436146377894, 0.9544436146377894, 0.9544436146377894, 0.9544436146377894, 0.9544436146377894, 0.9544436146377894, 0.9544436146377894, 0.9544436146377894, 0.9544436146377894, 0.9544436146377894, 0.9544436146377894, 0.9544436146377894, 0.9544436146377894, 0.9544436146377894, 0.9566840926064227, 0.9566840926064227, 0.9566840926064227, 0.9566840926064227, 0.9566840926064227, 0.9566840926064227, 0.9566840926064227, 0.9566840926064227, 0.9566840926064227, 0.9566840926064227, 0.9566840926064227, 0.9566840926064227, 0.9566840926064227]}],\n",
              "                        {\"template\": {\"data\": {\"bar\": [{\"error_x\": {\"color\": \"#2a3f5f\"}, \"error_y\": {\"color\": \"#2a3f5f\"}, \"marker\": {\"line\": {\"color\": \"#E5ECF6\", \"width\": 0.5}}, \"type\": \"bar\"}], \"barpolar\": [{\"marker\": {\"line\": {\"color\": \"#E5ECF6\", \"width\": 0.5}}, \"type\": \"barpolar\"}], \"carpet\": [{\"aaxis\": {\"endlinecolor\": \"#2a3f5f\", \"gridcolor\": \"white\", \"linecolor\": \"white\", \"minorgridcolor\": \"white\", \"startlinecolor\": \"#2a3f5f\"}, \"baxis\": {\"endlinecolor\": \"#2a3f5f\", \"gridcolor\": \"white\", \"linecolor\": \"white\", \"minorgridcolor\": \"white\", \"startlinecolor\": \"#2a3f5f\"}, \"type\": \"carpet\"}], \"choropleth\": [{\"colorbar\": {\"outlinewidth\": 0, \"ticks\": \"\"}, \"type\": \"choropleth\"}], \"contour\": [{\"colorbar\": {\"outlinewidth\": 0, \"ticks\": \"\"}, \"colorscale\": [[0.0, \"#0d0887\"], [0.1111111111111111, \"#46039f\"], [0.2222222222222222, \"#7201a8\"], [0.3333333333333333, \"#9c179e\"], [0.4444444444444444, \"#bd3786\"], [0.5555555555555556, \"#d8576b\"], [0.6666666666666666, \"#ed7953\"], [0.7777777777777778, \"#fb9f3a\"], [0.8888888888888888, \"#fdca26\"], [1.0, \"#f0f921\"]], \"type\": \"contour\"}], \"contourcarpet\": [{\"colorbar\": {\"outlinewidth\": 0, \"ticks\": \"\"}, \"type\": \"contourcarpet\"}], \"heatmap\": [{\"colorbar\": {\"outlinewidth\": 0, \"ticks\": \"\"}, \"colorscale\": [[0.0, \"#0d0887\"], [0.1111111111111111, \"#46039f\"], [0.2222222222222222, \"#7201a8\"], [0.3333333333333333, \"#9c179e\"], [0.4444444444444444, \"#bd3786\"], [0.5555555555555556, \"#d8576b\"], [0.6666666666666666, \"#ed7953\"], [0.7777777777777778, \"#fb9f3a\"], [0.8888888888888888, \"#fdca26\"], [1.0, \"#f0f921\"]], \"type\": \"heatmap\"}], \"heatmapgl\": [{\"colorbar\": {\"outlinewidth\": 0, \"ticks\": \"\"}, \"colorscale\": [[0.0, \"#0d0887\"], [0.1111111111111111, \"#46039f\"], [0.2222222222222222, \"#7201a8\"], [0.3333333333333333, \"#9c179e\"], [0.4444444444444444, \"#bd3786\"], [0.5555555555555556, \"#d8576b\"], [0.6666666666666666, \"#ed7953\"], [0.7777777777777778, \"#fb9f3a\"], [0.8888888888888888, \"#fdca26\"], [1.0, \"#f0f921\"]], \"type\": \"heatmapgl\"}], \"histogram\": [{\"marker\": {\"colorbar\": {\"outlinewidth\": 0, \"ticks\": \"\"}}, \"type\": \"histogram\"}], \"histogram2d\": [{\"colorbar\": {\"outlinewidth\": 0, \"ticks\": \"\"}, \"colorscale\": [[0.0, \"#0d0887\"], [0.1111111111111111, \"#46039f\"], [0.2222222222222222, \"#7201a8\"], [0.3333333333333333, \"#9c179e\"], [0.4444444444444444, \"#bd3786\"], [0.5555555555555556, \"#d8576b\"], [0.6666666666666666, \"#ed7953\"], [0.7777777777777778, \"#fb9f3a\"], [0.8888888888888888, \"#fdca26\"], [1.0, \"#f0f921\"]], \"type\": \"histogram2d\"}], \"histogram2dcontour\": [{\"colorbar\": {\"outlinewidth\": 0, \"ticks\": \"\"}, \"colorscale\": [[0.0, \"#0d0887\"], [0.1111111111111111, \"#46039f\"], [0.2222222222222222, \"#7201a8\"], [0.3333333333333333, \"#9c179e\"], [0.4444444444444444, \"#bd3786\"], [0.5555555555555556, \"#d8576b\"], [0.6666666666666666, \"#ed7953\"], [0.7777777777777778, \"#fb9f3a\"], [0.8888888888888888, \"#fdca26\"], [1.0, \"#f0f921\"]], \"type\": \"histogram2dcontour\"}], \"mesh3d\": [{\"colorbar\": {\"outlinewidth\": 0, \"ticks\": \"\"}, \"type\": \"mesh3d\"}], \"parcoords\": [{\"line\": {\"colorbar\": {\"outlinewidth\": 0, \"ticks\": \"\"}}, \"type\": \"parcoords\"}], \"pie\": [{\"automargin\": true, \"type\": \"pie\"}], \"scatter\": [{\"marker\": {\"colorbar\": {\"outlinewidth\": 0, \"ticks\": \"\"}}, \"type\": \"scatter\"}], \"scatter3d\": [{\"line\": {\"colorbar\": {\"outlinewidth\": 0, \"ticks\": \"\"}}, \"marker\": {\"colorbar\": {\"outlinewidth\": 0, \"ticks\": \"\"}}, \"type\": \"scatter3d\"}], \"scattercarpet\": [{\"marker\": {\"colorbar\": {\"outlinewidth\": 0, \"ticks\": \"\"}}, \"type\": \"scattercarpet\"}], \"scattergeo\": [{\"marker\": {\"colorbar\": {\"outlinewidth\": 0, \"ticks\": \"\"}}, \"type\": \"scattergeo\"}], \"scattergl\": [{\"marker\": {\"colorbar\": {\"outlinewidth\": 0, \"ticks\": \"\"}}, \"type\": \"scattergl\"}], \"scattermapbox\": [{\"marker\": {\"colorbar\": {\"outlinewidth\": 0, \"ticks\": \"\"}}, \"type\": \"scattermapbox\"}], \"scatterpolar\": [{\"marker\": {\"colorbar\": {\"outlinewidth\": 0, \"ticks\": \"\"}}, \"type\": \"scatterpolar\"}], \"scatterpolargl\": [{\"marker\": {\"colorbar\": {\"outlinewidth\": 0, \"ticks\": \"\"}}, \"type\": \"scatterpolargl\"}], \"scatterternary\": [{\"marker\": {\"colorbar\": {\"outlinewidth\": 0, \"ticks\": \"\"}}, \"type\": \"scatterternary\"}], \"surface\": [{\"colorbar\": {\"outlinewidth\": 0, \"ticks\": \"\"}, \"colorscale\": [[0.0, \"#0d0887\"], [0.1111111111111111, \"#46039f\"], [0.2222222222222222, \"#7201a8\"], [0.3333333333333333, \"#9c179e\"], [0.4444444444444444, \"#bd3786\"], [0.5555555555555556, \"#d8576b\"], [0.6666666666666666, \"#ed7953\"], [0.7777777777777778, \"#fb9f3a\"], [0.8888888888888888, \"#fdca26\"], [1.0, \"#f0f921\"]], \"type\": \"surface\"}], \"table\": [{\"cells\": {\"fill\": {\"color\": \"#EBF0F8\"}, \"line\": {\"color\": \"white\"}}, \"header\": {\"fill\": {\"color\": \"#C8D4E3\"}, \"line\": {\"color\": \"white\"}}, \"type\": \"table\"}]}, \"layout\": {\"annotationdefaults\": {\"arrowcolor\": \"#2a3f5f\", \"arrowhead\": 0, \"arrowwidth\": 1}, \"coloraxis\": {\"colorbar\": {\"outlinewidth\": 0, \"ticks\": \"\"}}, \"colorscale\": {\"diverging\": [[0, \"#8e0152\"], [0.1, \"#c51b7d\"], [0.2, \"#de77ae\"], [0.3, \"#f1b6da\"], [0.4, \"#fde0ef\"], [0.5, \"#f7f7f7\"], [0.6, \"#e6f5d0\"], [0.7, \"#b8e186\"], [0.8, \"#7fbc41\"], [0.9, \"#4d9221\"], [1, \"#276419\"]], \"sequential\": [[0.0, \"#0d0887\"], [0.1111111111111111, \"#46039f\"], [0.2222222222222222, \"#7201a8\"], [0.3333333333333333, \"#9c179e\"], [0.4444444444444444, \"#bd3786\"], [0.5555555555555556, \"#d8576b\"], [0.6666666666666666, \"#ed7953\"], [0.7777777777777778, \"#fb9f3a\"], [0.8888888888888888, \"#fdca26\"], [1.0, \"#f0f921\"]], \"sequentialminus\": [[0.0, \"#0d0887\"], [0.1111111111111111, \"#46039f\"], [0.2222222222222222, \"#7201a8\"], [0.3333333333333333, \"#9c179e\"], [0.4444444444444444, \"#bd3786\"], [0.5555555555555556, \"#d8576b\"], [0.6666666666666666, \"#ed7953\"], [0.7777777777777778, \"#fb9f3a\"], [0.8888888888888888, \"#fdca26\"], [1.0, \"#f0f921\"]]}, \"colorway\": [\"#636efa\", \"#EF553B\", \"#00cc96\", \"#ab63fa\", \"#FFA15A\", \"#19d3f3\", \"#FF6692\", \"#B6E880\", \"#FF97FF\", \"#FECB52\"], \"font\": {\"color\": \"#2a3f5f\"}, \"geo\": {\"bgcolor\": \"white\", \"lakecolor\": \"white\", \"landcolor\": \"#E5ECF6\", \"showlakes\": true, \"showland\": true, \"subunitcolor\": \"white\"}, \"hoverlabel\": {\"align\": \"left\"}, \"hovermode\": \"closest\", \"mapbox\": {\"style\": \"light\"}, \"paper_bgcolor\": \"white\", \"plot_bgcolor\": \"#E5ECF6\", \"polar\": {\"angularaxis\": {\"gridcolor\": \"white\", \"linecolor\": \"white\", \"ticks\": \"\"}, \"bgcolor\": \"#E5ECF6\", \"radialaxis\": {\"gridcolor\": \"white\", \"linecolor\": \"white\", \"ticks\": \"\"}}, \"scene\": {\"xaxis\": {\"backgroundcolor\": \"#E5ECF6\", \"gridcolor\": \"white\", \"gridwidth\": 2, \"linecolor\": \"white\", \"showbackground\": true, \"ticks\": \"\", \"zerolinecolor\": \"white\"}, \"yaxis\": {\"backgroundcolor\": \"#E5ECF6\", \"gridcolor\": \"white\", \"gridwidth\": 2, \"linecolor\": \"white\", \"showbackground\": true, \"ticks\": \"\", \"zerolinecolor\": \"white\"}, \"zaxis\": {\"backgroundcolor\": \"#E5ECF6\", \"gridcolor\": \"white\", \"gridwidth\": 2, \"linecolor\": \"white\", \"showbackground\": true, \"ticks\": \"\", \"zerolinecolor\": \"white\"}}, \"shapedefaults\": {\"line\": {\"color\": \"#2a3f5f\"}}, \"ternary\": {\"aaxis\": {\"gridcolor\": \"white\", \"linecolor\": \"white\", \"ticks\": \"\"}, \"baxis\": {\"gridcolor\": \"white\", \"linecolor\": \"white\", \"ticks\": \"\"}, \"bgcolor\": \"#E5ECF6\", \"caxis\": {\"gridcolor\": \"white\", \"linecolor\": \"white\", \"ticks\": \"\"}}, \"title\": {\"x\": 0.05}, \"xaxis\": {\"automargin\": true, \"gridcolor\": \"white\", \"linecolor\": \"white\", \"ticks\": \"\", \"title\": {\"standoff\": 15}, \"zerolinecolor\": \"white\", \"zerolinewidth\": 2}, \"yaxis\": {\"automargin\": true, \"gridcolor\": \"white\", \"linecolor\": \"white\", \"ticks\": \"\", \"title\": {\"standoff\": 15}, \"zerolinecolor\": \"white\", \"zerolinewidth\": 2}}}, \"title\": {\"text\": \"Optimization History Plot\"}, \"xaxis\": {\"title\": {\"text\": \"#Trials\"}}, \"yaxis\": {\"title\": {\"text\": \"Objective Value\"}}},\n",
              "                        {\"responsive\": true}\n",
              "                    ).then(function(){\n",
              "                            \n",
              "var gd = document.getElementById('fac6fd3c-57c2-4ac4-988f-616a3e74df02');\n",
              "var x = new MutationObserver(function (mutations, observer) {{\n",
              "        var display = window.getComputedStyle(gd).display;\n",
              "        if (!display || display === 'none') {{\n",
              "            console.log([gd, 'removed!']);\n",
              "            Plotly.purge(gd);\n",
              "            observer.disconnect();\n",
              "        }}\n",
              "}});\n",
              "\n",
              "// Listen for the removal of the full notebook cells\n",
              "var notebookContainer = gd.closest('#notebook-container');\n",
              "if (notebookContainer) {{\n",
              "    x.observe(notebookContainer, {childList: true});\n",
              "}}\n",
              "\n",
              "// Listen for the clearing of the current output cell\n",
              "var outputEl = gd.closest('.output');\n",
              "if (outputEl) {{\n",
              "    x.observe(outputEl, {childList: true});\n",
              "}}\n",
              "\n",
              "                        })\n",
              "                };\n",
              "                \n",
              "            </script>\n",
              "        </div>\n",
              "</body>\n",
              "</html>"
            ]
          },
          "metadata": {
            "tags": []
          }
        }
      ]
    },
    {
      "cell_type": "code",
      "metadata": {
        "colab": {
          "base_uri": "https://localhost:8080/"
        },
        "id": "FxREhaDABlHn",
        "outputId": "25d76884-1b9b-47d6-a518-dbfcc576f5e3"
      },
      "source": [
        "xgb_train = xgb.DMatrix(x_train.values, ((y_train)*1).values)\n",
        "xgb_test = xgb.DMatrix(x_test.values,  ((y_test)*1).values) \n",
        "# Start timer\n",
        "start = time.time()\n",
        "\n",
        "params = {\n",
        "        'max_leaves': 219,\n",
        "        'max_bin': 464,\n",
        "        'objective': 'multi:softprob',\n",
        "        'num_class': 2,\n",
        "        'eval_metric': 'mlogloss',\n",
        "        'max_depth': 9,\n",
        "        'min_child_weight': 14,\n",
        "        'subsample': 0.8149351727396017,\n",
        "        'colsample_bytree': 0.6049858282831921,\n",
        "        'gamma':0.33260417588117375,\n",
        "        'apha': 1.1568060243769835e-05,\n",
        "        'lambda': 0.9681368974466027,\n",
        "        'learning_rate': 0.31309132014373064,\n",
        "        'seed': 42\n",
        "        }\n",
        "\n",
        "# Train XGBoost\n",
        "bst = xgb.train(params,\n",
        "                xgb_train, \n",
        "                num_boost_round=1300, \n",
        "                evals=[(xgb_test, 'mlogloss')], \n",
        "                early_stopping_rounds=5, # early stopping\n",
        "                verbose_eval=200)\n",
        "\n",
        "\n",
        "# Stop Timer\n",
        "end = time.time()\n",
        "elapsed_xgboost = end - start\n",
        "\n",
        "#Check Accuracy of Spam Detection in Train and Test Set\n",
        "print('Accuracy')\n",
        "print(\"Xgboost: Accuracy, Training Set \\t : {:.2%}\".format(metrics.accuracy_score(y_train, bst.predict(xgb.DMatrix(x_train.values)).argmax(axis=1))))\n",
        "print(\"Xgboost: Accuracy, Testing Set \\t : {:.2%}\".format(metrics.accuracy_score(((y_test)*1),  bst.predict(xgb.DMatrix(x_test.values)).argmax(axis=1))))\n",
        "print('Precision')\n",
        "print(\"Xgboost: precision, Training Set \\t : {:.2%}\".format(metrics.precision_score(((y_train)*1), bst.predict(xgb.DMatrix(x_train.values)).argmax(axis=1))))\n",
        "print(\"Xgboost: precision, Testing Set \\t : {:.2%}\".format(metrics.precision_score(((y_test)*1),  bst.predict(xgb.DMatrix(x_test.values)).argmax(axis=1))))\n",
        "print('Recall')\n",
        "print(\"Xgboost: Recall, Training Set \\t : {:.2%}\".format(metrics.recall_score(((y_train)*1), bst.predict(xgb.DMatrix(x_train.values)).argmax(axis=1))))\n",
        "print(\"Xgboost: Recall, Testing Set \\t : {:.2%}\".format(metrics.recall_score(((y_test)*1),  bst.predict(xgb.DMatrix(x_test.values)).argmax(axis=1))))"
      ],
      "execution_count": null,
      "outputs": [
        {
          "output_type": "stream",
          "text": [
            "[0]\tmlogloss-mlogloss:0.52128\n",
            "Will train until mlogloss-mlogloss hasn't improved in 5 rounds.\n",
            "Stopping. Best iteration:\n",
            "[35]\tmlogloss-mlogloss:0.150485\n",
            "\n",
            "Accuracy\n",
            "Xgboost: Accuracy, Training Set \t : 98.13%\n",
            "Xgboost: Accuracy, Testing Set \t : 95.52%\n",
            "Precision\n",
            "Xgboost: precision, Training Set \t : 98.26%\n",
            "Xgboost: precision, Testing Set \t : 95.24%\n",
            "Recall\n",
            "Xgboost: Recall, Training Set \t : 96.95%\n",
            "Xgboost: Recall, Testing Set \t : 93.46%\n"
          ],
          "name": "stdout"
        }
      ]
    },
    {
      "cell_type": "code",
      "metadata": {
        "colab": {
          "base_uri": "https://localhost:8080/",
          "height": 295
        },
        "id": "I7JwAouAuUaa",
        "outputId": "6fc79069-8325-4a99-8a5e-6647a0995822"
      },
      "source": [
        "plt.figure(figsize=(10, 4))\n",
        "plt.subplot(121)\n",
        "sns.heatmap(pd.crosstab(y_test, (bst.predict(xgb.DMatrix(x_test.values)).argmax(axis=1)),\n",
        "                        rownames=['Actual'], colnames=['Predicted']), annot=True, cbar=False, fmt='d')\n",
        "plt.title('confusion matrix: ')\n",
        "plt.subplot(122)\n",
        "fpr, tpr, threshold = metrics.roc_curve(y_test, bst.predict(xgb.DMatrix(x_test.values)).argmax(axis=1))\n",
        "plt.title('Receiver Operating Characteristic')\n",
        "plt.plot(fpr, tpr, 'b', label = 'AUC = %0.2f' % metrics.auc(fpr, tpr))\n",
        "plt.legend(loc = 'lower right')\n",
        "plt.plot([0, 1], [0, 1],'r--')\n",
        "plt.xlim([0, 1])\n",
        "plt.ylim([0, 1])\n",
        "plt.ylabel('True Positive Rate')\n",
        "plt.xlabel('False Positive Rate')\n",
        "plt.savefig('confu_roc_xgboost')\n",
        "plt.show()"
      ],
      "execution_count": null,
      "outputs": [
        {
          "output_type": "display_data",
          "data": {
            "image/png": "[encoded data removed]",
            "text/plain": [
              "<Figure size 720x288 with 2 Axes>"
            ]
          },
          "metadata": {
            "tags": [],
            "needs_background": "light"
          }
        }
      ]
    },
    {
      "cell_type": "code",
      "metadata": {
        "colab": {
          "base_uri": "https://localhost:8080/"
        },
        "id": "LOzdI01aiO1L",
        "outputId": "16313df1-b373-4bf6-f873-2e99f2ef84c7"
      },
      "source": [
        "#Check Accuracy of Spam Detection in Train and Test Set\n",
        "print('Simple Decision Trees')\n",
        "print(\"Simple Decision Trees: Accuracy, Testing Set \\t : {:.2%}\".format(metrics.accuracy_score(y_test,  model_tree.predict(x_test))))\n",
        "print(\"Simple Decision Trees: precision, Testing Set \\t : {:.2%}\".format(metrics.precision_score(y_test,  model_tree.predict(x_test))))\n",
        "print(\"Simple Decision Trees: Recall, Testing Set \\t : {:.2%}\".format(metrics.recall_score(y_test,  model_tree.predict(x_test))))\n",
        "print('Bagging vote')\n",
        "print(\"Bagging vote: Accuracy, Testing Set \\t : {:.2%}\".format(metrics.accuracy_score(y_test,  get_prediction(predictions_test, count=-1))))\n",
        "print(\"Bagging vote: precision, Testing Set \\t : {:.2%}\".format(metrics.precision_score(y_test,  get_prediction(predictions_test, count=-1))))\n",
        "print(\"Bagging vote: Recall, Testing Set \\t : {:.2%}\".format(metrics.recall_score(y_test,  get_prediction(predictions_test, count=-1))))\n",
        "print('Random Forest Deep')\n",
        "print(\"Random Forest Deep: Accuracy, Testing Set \\t : {:.2%}\".format(metrics.accuracy_score(y_test,  rfc_2.predict(x_test))))\n",
        "print(\"Random Forest Deep: precision, Testing Set \\t : {:.2%}\".format(metrics.precision_score(y_test,  rfc_2.predict(x_test))))\n",
        "print(\"Random Forest Deep: Recall, Testing Set \\t : {:.2%}\".format(metrics.recall_score(y_test,  rfc_2.predict(x_test))))\n",
        "print('AdaBoost')\n",
        "print(\"AdaBoost: Accuracy, Testing Set \\t : {:.2%}\".format(metrics.accuracy_score(y_test,  adaboost.predict(x_test))))\n",
        "print(\"AdaBoost: precision, Testing Set \\t : {:.2%}\".format(metrics.precision_score(y_test,  adaboost.predict(x_test))))\n",
        "print(\"AdaBoost: Recall, Testing Set \\t : {:.2%}\".format(metrics.recall_score(y_test,  adaboost.predict(x_test))))\n",
        "\n",
        "print('xgboost')\n",
        "print(\"Xgboost: Accuracy, Testing Set \\t : {:.2%}\".format(metrics.accuracy_score(((y_test)*1),  bst.predict(xgb.DMatrix(x_test.values)).argmax(axis=1))))\n",
        "print(\"Xgboost: precision, Testing Set \\t : {:.2%}\".format(metrics.precision_score(((y_test)*1),  bst.predict(xgb.DMatrix(x_test.values)).argmax(axis=1))))\n",
        "print(\"Xgboost: Recall, Testing Set \\t : {:.2%}\".format(metrics.recall_score(((y_test)*1),  bst.predict(xgb.DMatrix(x_test.values)).argmax(axis=1))))"
      ],
      "execution_count": null,
      "outputs": [
        {
          "output_type": "stream",
          "text": [
            "Simple Decision Trees\n",
            "Simple Decision Trees: Accuracy, Testing Set \t : 90.81%\n",
            "Simple Decision Trees: precision, Testing Set \t : 90.87%\n",
            "Simple Decision Trees: Recall, Testing Set \t : 85.61%\n",
            "Bagging vote\n",
            "Bagging vote: Accuracy, Testing Set \t : 92.01%\n",
            "Bagging vote: precision, Testing Set \t : 94.58%\n",
            "Bagging vote: Recall, Testing Set \t : 84.86%\n",
            "Random Forest Deep\n",
            "Random Forest Deep: Accuracy, Testing Set \t : 95.37%\n",
            "Random Forest Deep: precision, Testing Set \t : 96.10%\n",
            "Random Forest Deep: Recall, Testing Set \t : 92.15%\n",
            "AdaBoost\n",
            "AdaBoost: Accuracy, Testing Set \t : 94.62%\n",
            "AdaBoost: precision, Testing Set \t : 95.13%\n",
            "AdaBoost: Recall, Testing Set \t : 91.21%\n",
            "xgboost\n",
            "Xgboost: Accuracy, Testing Set \t : 95.52%\n",
            "Xgboost: precision, Testing Set \t : 95.24%\n",
            "Xgboost: Recall, Testing Set \t : 93.46%\n"
          ],
          "name": "stdout"
        }
      ]
    },
    {
      "cell_type": "markdown",
      "metadata": {
        "id": "VecElxDgtnL0"
      },
      "source": [
        "Le xgboost surpasse tous les autres modèles en terme d'accuracy et de racall.  "
      ]
    },
    {
      "cell_type": "markdown",
      "metadata": {
        "id": "NljWZArzjCqn"
      },
      "source": [
        "## Light Gradient Boosting Machine"
      ]
    },
    {
      "cell_type": "code",
      "metadata": {
        "id": "YT4q-JtMjJCl"
      },
      "source": [
        "! pip install lightgbm\n",
        "import lightgbm as lgb"
      ],
      "execution_count": null,
      "outputs": []
    },
    {
      "cell_type": "code",
      "metadata": {
        "id": "f-IvUarFjXXI"
      },
      "source": [
        "def objective(trial): \n",
        "\n",
        "\n",
        "  params = {\n",
        "          'num_leaves': trial.suggest_int('num_leaves', 32, 512),\n",
        "          'boosting_type': 'gbdt',\n",
        "          'max_bin': trial.suggest_int('max_bin', 700, 900),\n",
        "          'objective': 'binary',\n",
        "          'metric': 'logloss',\n",
        "          'max_depth': trial.suggest_int('max_depth', 4, 16),\n",
        "          'min_child_weight': trial.suggest_int('min_child_weight', 1, 16),\n",
        "          'feature_fraction': trial.suggest_uniform('feature_fraction', 0.4, 1.0),\n",
        "          'bagging_fraction': trial.suggest_uniform('bagging_fraction', 0.4, 1.0),\n",
        "          'bagging_freq': trial.suggest_int('bagging_freq', 1, 8),\n",
        "          'min_child_samples': trial.suggest_int('min_child_samples', 4, 80),\n",
        "          'lambda_l1': trial.suggest_loguniform('lambda_l1', 1e-8, 1.0),\n",
        "          'lambda_l2': trial.suggest_loguniform('lambda_l2', 1e-8, 1.0),\n",
        "          }\n",
        "\n",
        "  model = lgb.train(params, lgb_train, num_boost_round=1300, valid_sets=[lgb_train, lgb_test], valid_names=['lgb_train', 'lgb_test'],\n",
        "                    early_stopping_rounds=10, \n",
        "                    verbose_eval=200)\n",
        "  \n",
        "  val_pred = model.predict(x_test)\n",
        "  print(val_pred)\n",
        "  score = accuracy_score(((y_test)*1), val_pred.argmax(axis=1))\n",
        "  print(f\"AUC = {score}\")\n",
        "\n",
        "  return score"
      ],
      "execution_count": null,
      "outputs": []
    },
    {
      "cell_type": "code",
      "metadata": {
        "id": "Q36O0aw5jW79"
      },
      "source": [
        "\n",
        "lgb_train = lgb.Dataset(x_train, label = y_train) \n",
        "lgb_test = lgb.Dataset(x_test, label = y_test, reference=lgb_train)\n",
        "\n",
        "# Bayesian optimization\n",
        "study = optuna.create_study(direction='maximize')\n",
        "study.optimize(objective, n_trials=5)"
      ],
      "execution_count": null,
      "outputs": []
    },
    {
      "cell_type": "code",
      "metadata": {
        "id": "16NBjXRctY8-"
      },
      "source": [
        ""
      ],
      "execution_count": null,
      "outputs": []
    },
    {
      "cell_type": "code",
      "metadata": {
        "id": "7pTq-MGWtYiq"
      },
      "source": [
        ""
      ],
      "execution_count": null,
      "outputs": []
    },
    {
      "cell_type": "code",
      "metadata": {
        "id": "wt8sxqWBtYW0"
      },
      "source": [
        ""
      ],
      "execution_count": null,
      "outputs": []
    }
  ]
}